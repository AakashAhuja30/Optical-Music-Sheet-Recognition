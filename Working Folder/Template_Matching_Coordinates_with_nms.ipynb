{
 "cells": [
  {
   "cell_type": "code",
   "execution_count": 2,
   "metadata": {
    "colab": {
     "base_uri": "https://localhost:8080/"
    },
    "id": "qzC0r0g-A8PM",
    "outputId": "e8231377-d391-4d6e-d813-8fd40f651ee6"
   },
   "outputs": [
    {
     "name": "stdout",
     "output_type": "stream",
     "text": [
      "total 960\n",
      "-rw-r--r-- 1 root root  44715 Mar 26 10:10 music1.png\n",
      "-rw-r--r-- 1 root root 161897 Mar 26 10:10 music2.png\n",
      "-rw-r--r-- 1 root root 598736 Mar 26 10:10 music3.png\n",
      "-rw-r--r-- 1 root root  26874 Mar 26 10:10 music4.png\n",
      "-rw-r--r-- 1 root root 116964 Mar 26 10:10 rach.png\n",
      "-rw-r--r-- 1 root root   7021 Mar 26 10:10 template1.png\n",
      "-rw-r--r-- 1 root root   7459 Mar 26 10:10 template2.png\n",
      "-rw-r--r-- 1 root root   7335 Mar 26 10:10 template3.png\n"
     ]
    }
   ],
   "source": [
    "! mkdir test-images\n",
    "! mv *.png ./test-images/\n",
    "! ls -lrt ./test-images"
   ]
  },
  {
   "cell_type": "markdown",
   "metadata": {
    "id": "fjxMI0dHo4Mj"
   },
   "source": [
    "**Importing Libraries**"
   ]
  },
  {
   "cell_type": "code",
   "execution_count": 3,
   "metadata": {
    "id": "hs-2O3-IXOVJ"
   },
   "outputs": [],
   "source": [
    "import numpy as np\n",
    "from PIL import Image, ImageDraw, ImageFilter\n",
    "import math\n",
    "import sklearn\n",
    "from sklearn.preprocessing import minmax_scale\n",
    "import matplotlib.pyplot as plt\n",
    "from collections import Counter"
   ]
  },
  {
   "cell_type": "code",
   "execution_count": 4,
   "metadata": {
    "id": "adYwq6zqXRAB"
   },
   "outputs": [],
   "source": [
    "def Hamming_Distance(image_scaled,template_scaled):\n",
    "  #Padding the image to take care of boundaries \n",
    "  image_padded = np.zeros(shape=(image_scaled.shape[0] + template_scaled.shape[0] - 1, image_scaled.shape[1] + template_scaled.shape[1] -1))\n",
    "  image_padded[:image_scaled.shape[0], :image_scaled.shape[1]] = image_scaled\n",
    "\n",
    "  #Calculating Hamming distance now for template matching\n",
    "  f_ij = np.zeros((image_scaled.shape[0],image_scaled.shape[1]))\n",
    "  for i in range(image_scaled.shape[0]):\n",
    "    for j in range(image_scaled.shape[1]):\n",
    "      patch = image_padded[i:template_scaled.shape[0]+i,j:template_scaled.shape[1]+j]\n",
    "      #Applying the formula given in the assignment\n",
    "      f_ij[i,j] = np.sum(np.multiply(patch,template_scaled)) + np.sum(np.multiply((1-patch),(1-template_scaled)))\n",
    "\n",
    "  f_ij_scaled = 255*(f_ij - f_ij.min())/(f_ij.max() - f_ij.min())      \n",
    "  f_ij_scaled = f_ij_scaled.astype(np.uint8)\n",
    "  return(f_ij_scaled)\n"
   ]
  },
  {
   "cell_type": "code",
   "execution_count": 5,
   "metadata": {
    "id": "AK5qrf70XWEQ"
   },
   "outputs": [],
   "source": [
    "def template_matching(img_path,template_cutoff):\n",
    "  #template_paths = [i[0] for i in template_cutoff]\n",
    "  cutoffs = [i[1] for i in template_cutoff]\n",
    "  image_scaled = minmax_scale(np.array(Image.open(img_path,mode=\"r\").convert('L')))\n",
    "  templates_scaled = [minmax_scale(np.array(Image.open(template_cutoff[i][0],mode=\"r\").convert('L'))) for i in range(len(template_cutoff))]\n",
    "\n",
    "  f_ijs = [Hamming_Distance(image_scaled,templates_scaled[i]) for i in range(len(templates_scaled))]\n",
    "  images = [Image.fromarray(np.where(f_ijs[i] > cutoffs[i],255,0).astype(np.uint8))  for i in range(len(f_ijs))]\n",
    "  return(images)\n"
   ]
  },
  {
   "cell_type": "code",
   "execution_count": 6,
   "metadata": {
    "id": "F49yUNebXW3v"
   },
   "outputs": [],
   "source": [
    "# image_path = '/content/drive/MyDrive/CVAssignment1/images_and_sample-code/test-images/music1.png'\n",
    "# template1_path = '/content/drive/MyDrive/CVAssignment1/images_and_sample-code/test-images/template1.png'\n",
    "# template2_path = '/content/drive/MyDrive/CVAssignment1/images_and_sample-code/test-images/template2.png'\n",
    "# template3_path = '/content/drive/MyDrive/CVAssignment1/images_and_sample-code/test-images/template3.png'\n",
    "# template_cutoff = [(template1_path,230),(template2_path,250),(template3_path,250)]\n",
    "\n",
    "image_path = '/content/test-images/music1.png'\n",
    "template1_path = '/content/test-images/template1.png'\n",
    "template2_path = '/content/test-images/template2.png'\n",
    "template3_path = '/content/test-images/template3.png'\n",
    "template_cutoff = [(template1_path,220),(template2_path,240),(template3_path,235)]"
   ]
  },
  {
   "cell_type": "code",
   "execution_count": 7,
   "metadata": {
    "id": "FziuqeY4Xaqm"
   },
   "outputs": [],
   "source": [
    "images = template_matching(image_path,template_cutoff)"
   ]
  },
  {
   "cell_type": "code",
   "execution_count": 8,
   "metadata": {
    "colab": {
     "base_uri": "https://localhost:8080/",
     "height": 243
    },
    "id": "kflkQJ7Aggx0",
    "outputId": "fdc376f1-043d-4583-9708-ba879503edfe"
   },
   "outputs": [
    {
     "data": {
      "image/png": "[encoded data removed]",
      "text/plain": [
       "<PIL.Image.Image image mode=L size=1274x231 at 0x7F408D5EE290>"
      ]
     },
     "execution_count": 8,
     "metadata": {
      "tags": []
     },
     "output_type": "execute_result"
    }
   ],
   "source": [
    "images[0]"
   ]
  },
  {
   "cell_type": "code",
   "execution_count": 9,
   "metadata": {
    "id": "1Yd9I8gOzMWG"
   },
   "outputs": [],
   "source": [
    "#from math import sqrt \n",
    "def calc_distance(p1, p2): \n",
    "  return np.sqrt((p1[0]-p2[0])**2+(p1[1]-p2[1])**2) "
   ]
  },
  {
   "cell_type": "markdown",
   "metadata": {
    "id": "_QCuALSYpa9a"
   },
   "source": [
    "**Parameters that will be given by Sahil's Code**"
   ]
  },
  {
   "cell_type": "code",
   "execution_count": 12,
   "metadata": {
    "id": "WvpQW4h2pf1v"
   },
   "outputs": [],
   "source": [
    "row_coordinate_treble_stave = 30\n",
    "spacing_parameter = 12\n",
    "row_coordinate_base_stave = 151\n",
    "spacing_parameter = int(spacing_parameter/2)"
   ]
  },
  {
   "cell_type": "markdown",
   "metadata": {
    "id": "FH3nO2RrpxZC"
   },
   "source": [
    "**Pre-Defining the notes for each row coordinate using parameters from Sahil's code**"
   ]
  },
  {
   "cell_type": "code",
   "execution_count": 13,
   "metadata": {
    "colab": {
     "base_uri": "https://localhost:8080/"
    },
    "id": "ZGq55bzma5v6",
    "outputId": "2fdb947e-7684-40e6-d36f-6aab1db6942f"
   },
   "outputs": [
    {
     "name": "stdout",
     "output_type": "stream",
     "text": [
      "[(30, 'F'), (36, 'D'), (42, 'B'), (48, 'G'), (54, 'E'), (151, 'A'), (157, 'F'), (163, 'D'), (169, 'B'), (175, 'G')]\n"
     ]
    }
   ],
   "source": [
    "treble_notes = ['F','D','B','G','E']\n",
    "base_notes = ['A','F','D','B','G']\n",
    "list_notes = []\n",
    "for x in enumerate(range(row_coordinate_treble_stave,row_coordinate_treble_stave+5*spacing_parameter,spacing_parameter)):\n",
    "  list_notes.append((x[1],treble_notes[x[0]]))\n",
    "\n",
    "for x in enumerate(range(row_coordinate_base_stave,row_coordinate_base_stave+5*spacing_parameter,spacing_parameter)):\n",
    "  list_notes.append((x[1],base_notes[x[0]]))\n",
    "\n",
    "print(list_notes)"
   ]
  },
  {
   "cell_type": "code",
   "execution_count": 14,
   "metadata": {
    "colab": {
     "base_uri": "https://localhost:8080/"
    },
    "id": "5qEmT9JwmL3m",
    "outputId": "6c7e7dc1-349a-4fa3-d573-2b113bca8fba"
   },
   "outputs": [
    {
     "name": "stdout",
     "output_type": "stream",
     "text": [
      "[30, 36, 42, 48, 54, 151, 157, 163, 169, 175]\n"
     ]
    }
   ],
   "source": [
    "list_coordinates = [a_tuple[0] for a_tuple in list_notes]\n",
    "print(list_coordinates)"
   ]
  },
  {
   "cell_type": "code",
   "execution_count": 15,
   "metadata": {
    "id": "OGeK7ViFzLNw"
   },
   "outputs": [],
   "source": [
    "def return_notes(list_coordinates, k):\n",
    "  if k > list_coordinates[0] - spacing_parameter and k <=list_coordinates[0]+spacing_parameter:\n",
    "    text = 'F'\n",
    "    return(text)\n",
    "  elif k > list_coordinates[1] - spacing_parameter and k <=list_coordinates[1]+spacing_parameter:\n",
    "    text = 'D'\n",
    "    return(text)\n",
    "\n",
    "  elif k > list_coordinates[2] - spacing_parameter and k <=list_coordinates[2]+spacing_parameter:\n",
    "    text = 'B'\n",
    "    return(text)\n",
    "\n",
    "  elif k > list_coordinates[3] - spacing_parameter and k <=list_coordinates[3]+spacing_parameter:\n",
    "    text = 'G'\n",
    "    return(text)\n",
    "\n",
    "  elif k > list_coordinates[4] - spacing_parameter and k <=list_coordinates[4]+spacing_parameter:\n",
    "    text = 'E'\n",
    "    return(text)\n",
    "\n",
    "  elif k > list_coordinates[5] - spacing_parameter and k <=list_coordinates[5]+spacing_parameter:\n",
    "    text = 'A'\n",
    "    return(text)\n",
    "  \n",
    "  elif k > list_coordinates[6] - spacing_parameter and k <=list_coordinates[6]+spacing_parameter:\n",
    "    text = 'F'\n",
    "    return(text)\n",
    "\n",
    "  elif k > list_coordinates[7] - spacing_parameter and k <=list_coordinates[7]+spacing_parameter:\n",
    "    text = 'D'\n",
    "    return(text)\n",
    "\n",
    "  elif k > list_coordinates[8] - spacing_parameter and k <=list_coordinates[8]+spacing_parameter:\n",
    "    text = 'B'\n",
    "    return(text)\n",
    "\n",
    "  elif k > list_coordinates[8] - spacing_parameter and k <=list_coordinates[8]+spacing_parameter:\n",
    "    text = 'G'\n",
    "    return(text)\n",
    "\n",
    "  else:\n",
    "    text = ''\n",
    "    return(text)"
   ]
  },
  {
   "cell_type": "code",
   "execution_count": 16,
   "metadata": {
    "colab": {
     "base_uri": "https://localhost:8080/",
     "height": 243
    },
    "id": "25OMQ5frZaE6",
    "outputId": "b058e909-7c0c-4a11-c75e-c518cd8ed1c9"
   },
   "outputs": [
    {
     "data": {
      "image/png": "[encoded data removed]",
      "text/plain": [
       "<PIL.Image.Image image mode=RGB size=1274x231 at 0x7F40775E1CD0>"
      ]
     },
     "execution_count": 16,
     "metadata": {
      "tags": []
     },
     "output_type": "execute_result"
    }
   ],
   "source": [
    "colors = ['red','green','blue']\n",
    "convert_image = Image.open(image_path).convert('L')\n",
    "im1 = convert_image.convert('RGB')\n",
    "draw = ImageDraw.Draw(im1)\n",
    "colors = ['red','green','blue']\n",
    "coordinates = [(0,0)]\n",
    "for k in range(len(images)):\n",
    "  path = template_cutoff[k][0]\n",
    "  temp_array_1 = np.array(Image.open(path,mode=\"r\").convert('L'))\n",
    "  temp = np.array(images[k])\n",
    "  for i in range(temp.shape[0]):\n",
    "    for j in range(temp.shape[1]):\n",
    "      if temp[i,j] == 255:\n",
    "\n",
    "        #Calculating distance of detected point with already detected point\n",
    "        distance = np.sort([calc_distance((i,j),(m)) for m in coordinates])[0]\n",
    "\n",
    "        #Will draw rectangle only if distance >5. This avoids multiple detections around the same point\n",
    "        if distance >5:\n",
    "          coordinates.append((i,j))\n",
    "          x = i\n",
    "          y = j\n",
    "\n",
    "          #Function to determine the note for the given coordinate detected. DEFINED ABOVE THIS CELL\n",
    "          text = return_notes(list_coordinates,x)\n",
    "          \n",
    "          x2 = x + temp_array_1.shape[0]\n",
    "          y2 = y + temp_array_1.shape[1]\n",
    "          draw.rectangle(((y,x),(y2,x2)), outline= colors[k] ,width=2)\n",
    "          if k ==0:\n",
    "            draw.text((y-5,x-5), text, fill='green')\n",
    "          elif k ==1:\n",
    "            draw.text((y-10,x-10), 'quarter rest', fill='green')\n",
    "          elif k ==2:\n",
    "            draw.text((y-10,x-10), 'eighth rest', fill='green')\n",
    "im1"
   ]
  },
  {
   "cell_type": "markdown",
   "metadata": {
    "id": "lPciH81FBhZJ"
   },
   "source": [
    "### Application of Non Maximum Suppression"
   ]
  },
  {
   "cell_type": "code",
   "execution_count": 18,
   "metadata": {
    "id": "zX6q81uZBnLw"
   },
   "outputs": [],
   "source": [
    "def non_max_suppression(boxes, overlap_threshold):\n",
    "    selected_boxes = []\n",
    "    x1 = boxes[:, 0]\n",
    "    y1 = boxes[:, 1]\n",
    "    x2 = boxes[:, 2]\n",
    "    y2 = boxes[:, 3]\n",
    "    area = (x2 - x1) * (y2 - y1)\n",
    "    sort_indexes = np.argsort(x1)\n",
    "\n",
    "    while len(sort_indexes) > 0:\n",
    "        last = len(sort_indexes) - 1\n",
    "        last_box = sort_indexes[last]\n",
    "        selected_boxes.append(last_box)\n",
    "        suppressed_boxes = [last]\n",
    " \n",
    "        for i in range(0, last):\n",
    "            current_box = sort_indexes[i]\n",
    " \n",
    "            max_x1 = max(x1[last_box], x1[current_box])\n",
    "            max_y1 = max(y1[last_box], y1[current_box])\n",
    "            min_x2 = min(x2[last_box], x2[current_box])\n",
    "            min_y2 = min(y2[last_box], y2[current_box])\n",
    " \n",
    "            compact_box_area = float(max(0, min_x2 - max_x1)*max(0, min_y2 - max_y1))\n",
    "            overlap_perc = compact_box_area/area[current_box]\n",
    "            if overlap_perc > overlap_threshold:\n",
    "                suppressed_boxes.append(i)\n",
    "\n",
    "        sort_indexes = np.delete(sort_indexes, suppressed_boxes)\n",
    " \n",
    "    return boxes[selected_boxes]"
   ]
  },
  {
   "cell_type": "code",
   "execution_count": 26,
   "metadata": {
    "colab": {
     "base_uri": "https://localhost:8080/",
     "height": 243
    },
    "id": "KV0UtDq5BtXz",
    "outputId": "85766aad-6a5b-4a79-90f2-8e22b0ae4794"
   },
   "outputs": [
    {
     "data": {
      "image/png": "[encoded data removed]",
      "text/plain": [
       "<PIL.Image.Image image mode=RGB size=1274x231 at 0x7F40725CF050>"
      ]
     },
     "execution_count": 26,
     "metadata": {
      "tags": []
     },
     "output_type": "execute_result"
    }
   ],
   "source": [
    "colors = ['red','green','blue']\n",
    "convert_image = Image.open(image_path).convert('L')\n",
    "im1 = convert_image.convert('RGB')\n",
    "draw = ImageDraw.Draw(im1)\n",
    "colors = ['red','green','blue']\n",
    "coordinates = [(0,0)]\n",
    "for k in range(len(images)):\n",
    "  path = template_cutoff[k][0]\n",
    "  temp_array_1 = np.array(Image.open(path,mode=\"r\").convert('L'))\n",
    "  temp = np.array(images[k])\n",
    "  box_endpoints = []\n",
    "  for i in range(temp.shape[0]):\n",
    "    for j in range(temp.shape[1]):\n",
    "      if temp[i,j] == 255:\n",
    "          x = i\n",
    "          y = j\n",
    "          x2 = x + temp_array_1.shape[0]\n",
    "          y2 = y + temp_array_1.shape[1]\n",
    "          box_endpoints.append([y,x,y2,x2])\n",
    "\n",
    "  boxes_out = non_max_suppression(boxes=np.array(box_endpoints), overlap_threshold=0.3)\n",
    "  for box in boxes_out:\n",
    "    draw.rectangle(((box[0],box[1]),(box[2],box[3])), outline= colors[k] ,width=2) \n",
    "    text = return_notes(list_coordinates,box[1])\n",
    "    if k ==0:\n",
    "        draw.text((box[0]-5,box[1]-5), text, fill='green')\n",
    "    elif k ==1:\n",
    "        draw.text((box[0]-10,box[1]-10), 'quarter rest', fill='green')\n",
    "    elif k ==2:\n",
    "        draw.text((box[0]-10,box[1]-10), 'eighth rest', fill='green')\n",
    "im1"
   ]
  },
  {
   "cell_type": "markdown",
   "metadata": {
    "id": "7N8QHKC1rck2"
   },
   "source": [
    "**Sahil's code with added function to calculate coordinates**"
   ]
  },
  {
   "cell_type": "code",
   "execution_count": null,
   "metadata": {
    "id": "Pmrl6stL1Gf1"
   },
   "outputs": [],
   "source": [
    "image_path = '/content/drive/MyDrive/CVAssignment1/images_and_sample-code/test-images/music1.png'"
   ]
  },
  {
   "cell_type": "code",
   "execution_count": null,
   "metadata": {
    "colab": {
     "base_uri": "https://localhost:8080/",
     "height": 625
    },
    "id": "wOhv1diUois1",
    "outputId": "6ad35832-dd15-47bb-b5ef-c18ae5e40c57"
   },
   "outputs": [
    {
     "name": "stdout",
     "output_type": "stream",
     "text": [
      "(231, 46)\n"
     ]
    },
    {
     "data": {
      "image/png": "[encoded data removed]",
      "text/plain": [
       "<Figure size 360x720 with 1 Axes>"
      ]
     },
     "metadata": {
      "needs_background": "light",
      "tags": []
     },
     "output_type": "display_data"
    }
   ],
   "source": [
    "import numpy as np\n",
    "from matplotlib import pyplot as plt\n",
    "import os\n",
    "from PIL import Image\n",
    "import math\n",
    "def hough_transform(image):\n",
    "\tnote_image = Image.open(image).convert('L')\n",
    "\taxis0_accum = note_image.height\n",
    "\t#the space to explore and vote for each black pixel in the black n' whitye grayscale image\n",
    "\taxis1_accum = math.floor(note_image.height / 5)\n",
    "\taccumulator = np.zeros([axis0_accum, axis1_accum])\n",
    "\tprint(accumulator.shape)\n",
    "\t# all pixels lower than this value will be considered as black pixels, hopefully belonging to the lines of the staff.\n",
    "\tpixel_threshold = 180\n",
    "\t# for groups of five lines on a staff\n",
    "\tlines_to_detect = 5\n",
    "\n",
    "\tfor x in range(0,note_image.width):\n",
    "\t\tfor y in range(0,note_image.height):\n",
    "\t\t\tpixel_val = note_image.getpixel((x,y))\n",
    "\t\t\tif pixel_val < pixel_threshold:\n",
    "\t\t\t\tfor hough_axis1 in range(1, axis1_accum):\n",
    "\t\t\t\t\tfor space in range(0,lines_to_detect):\n",
    "\t\t\t\t\t\t# following the format y = m*x + b where y is y-coord, x is x-coord, \n",
    "\t\t\t\t\t\t# m is slope and b is bias. x and y are in image space, while m and b are in hough space\n",
    "\t\t\t\t\t\t# to detect five lines groups, we subsitute b with row coordinate of the first stave line\n",
    "\t\t\t\t\t\t# and m by the spacing between the lines\n",
    "\t\t\t\t\t\though_axis0 = abs(space * hough_axis1 + y)\n",
    "\t\t\t\t\t\t# ignore values if they exceed the image height, i.e., dim 0 of accumulator array\n",
    "\t\t\t\t\t\tif hough_axis0 < axis0_accum:\n",
    "\t\t\t\t\t\t\taccumulator[hough_axis0, hough_axis1] += 1\n",
    "\n",
    "\treturn accumulator\n",
    "\n",
    "accumulator = hough_transform(image_path)\n",
    "\n",
    "def plot_hough_transform_space(accumulator):\n",
    "    plt.figure(figsize=(5,10))\n",
    "    plt.imshow(accumulator)\n",
    "    plt.xlabel('Spacing')\n",
    "    plt.ylabel('Row Coord')\n",
    "    plt.savefig('hough_transform_space.png')\n",
    "\n",
    "plot_hough_transform_space(accumulator)"
   ]
  },
  {
   "cell_type": "code",
   "execution_count": null,
   "metadata": {
    "id": "aVWCmvq-4Q8_"
   },
   "outputs": [],
   "source": [
    "def get_coordinates_spacing(accumulator):\n",
    "  lst = []\n",
    "  for i in range(accumulator.shape[0]):\n",
    "    numbers = [accumulator[i,j] for j in range(accumulator.shape[1])]\n",
    "    lst.append((i,np.round(np.mean(numbers),2)))\n",
    "  lst.sort(key=lambda x:x[1],reverse=True)\n",
    "  lst1 = lst[0:100]\n",
    "  lst1.sort(key=lambda x:x[0],reverse=False)\n",
    "  candidate_indices = []\n",
    "  var = 0.3*lst1[0][1]\n",
    "  for k in range(len(lst1)):\n",
    "    diff = np.abs(lst1[k][1] - lst1[0][1])\n",
    "    if (diff < var or (lst1[k][1] > lst1[0][1])):\n",
    "      candidate_indices.append(k)\n",
    "    \n",
    "  lst2 = [lst1[i] for i in candidate_indices]\n",
    "  indx = [lst2[k][0] for k in range(len(lst2))]\n",
    "  sub =  np.diff(indx)\n",
    "  condition = sub > 5\n",
    "  condition = np.insert(condition,0,True)\n",
    "  final_indxs = []\n",
    "  for m in range(len(indx)):\n",
    "    if condition[m] == True:\n",
    "      final_indxs.append(m)\n",
    "  lst3 = [lst2[i] for i in final_indxs]\n",
    "  temp_lst = [lst3[k][0] for k in range(len(lst3))]\n",
    "  sub =  np.diff(temp_lst)\n",
    "  indexx = np.argmax(sub)+1\n",
    "  treble_stave = lst3[0][0]\n",
    "  print(f'Treble Stave Starting Coordinate: {treble_stave}')\n",
    "  base_stave = lst3[indexx][0]\n",
    "  print(f'Base Stave Starting Coordinate: {base_stave}')\n",
    "  c = Counter(sub)\n",
    "  spacing_parameter = [c.most_common(2)[k][0] for k in range(2)]\n",
    "  spacing_parameter = [k for k in spacing_parameter if k%2 == 0][0]\n",
    "  print(f'Spacing Parameter:{spacing_parameter}')\n",
    "  return(treble_stave,base_stave,spacing_parameter)\n"
   ]
  },
  {
   "cell_type": "code",
   "execution_count": null,
   "metadata": {
    "colab": {
     "base_uri": "https://localhost:8080/"
    },
    "id": "wj1ODbuaL4Hy",
    "outputId": "d4b857da-ec69-4dd1-b04f-6fc9e4a5d1e6"
   },
   "outputs": [
    {
     "name": "stdout",
     "output_type": "stream",
     "text": [
      "Treble Stave Starting Coordinate: 30\n",
      "Base Stave Starting Coordinate: 151\n",
      "Spacing Parameter:12\n"
     ]
    },
    {
     "data": {
      "text/plain": [
       "(30, 151, 12)"
      ]
     },
     "execution_count": 27,
     "metadata": {
      "tags": []
     },
     "output_type": "execute_result"
    }
   ],
   "source": [
    "get_coordinates_spacing(accumulator)"
   ]
  },
  {
   "cell_type": "markdown",
   "metadata": {
    "id": "0gkgAOxYsDor"
   },
   "source": [
    "**Debugging from here on**"
   ]
  },
  {
   "cell_type": "code",
   "execution_count": null,
   "metadata": {
    "colab": {
     "base_uri": "https://localhost:8080/"
    },
    "id": "EPEWBRnLA4sa",
    "outputId": "113b5873-2457-43e1-da59-cddda7eeb975"
   },
   "outputs": [
    {
     "data": {
      "text/plain": [
       "[(0, 103.62),\n",
       " (1, 122.76),\n",
       " (2, 98.13),\n",
       " (3, 80.28),\n",
       " (4, 70.07),\n",
       " (5, 66.74),\n",
       " (6, 61.14),\n",
       " (7, 55.54),\n",
       " (8, 53.64),\n",
       " (9, 85.75),\n",
       " (10, 127.29),\n",
       " (11, 141.96),\n",
       " (12, 164.13),\n",
       " (13, 166.53),\n",
       " (14, 129.12),\n",
       " (15, 117.49),\n",
       " (16, 116.42),\n",
       " (17, 111.5),\n",
       " (18, 105.37),\n",
       " (19, 101.47),\n",
       " (20, 106.32),\n",
       " (21, 131.71),\n",
       " (22, 138.29),\n",
       " (23, 130.64),\n",
       " (24, 145.37),\n",
       " (25, 156.96),\n",
       " (26, 164.64),\n",
       " (27, 183.45),\n",
       " (28, 194.07),\n",
       " (29, 194.43),\n",
       " (30, 193.83),\n",
       " (31, 194.34),\n",
       " (32, 194.67),\n",
       " (33, 188.7),\n",
       " (34, 222.8),\n",
       " (35, 222.74),\n",
       " (36, 226.29),\n",
       " (37, 233.18),\n",
       " (38, 220.55),\n",
       " (39, 223.93),\n",
       " (40, 252.97),\n",
       " (41, 270.75),\n",
       " (42, 284.72),\n",
       " (43, 294.55),\n",
       " (44, 305.29),\n",
       " (45, 323.09),\n",
       " (46, 381.97),\n",
       " (47, 423.46),\n",
       " (48, 459.2),\n",
       " (49, 478.91),\n",
       " (50, 492.08),\n",
       " (51, 502.5),\n",
       " (52, 539.92),\n",
       " (53, 583.75),\n",
       " (54, 603.04),\n",
       " (55, 601.47),\n",
       " (56, 557.43),\n",
       " (57, 513.72),\n",
       " (58, 526.18),\n",
       " (59, 548.42),\n",
       " (60, 578.29),\n",
       " (61, 563.86),\n",
       " (62, 562.25),\n",
       " (63, 579.34),\n",
       " (64, 663.36),\n",
       " (65, 780.36),\n",
       " (66, 912.66),\n",
       " (67, 925.01),\n",
       " (68, 836.8),\n",
       " (69, 719.72),\n",
       " (70, 663.76),\n",
       " (71, 658.74),\n",
       " (72, 688.76),\n",
       " (73, 693.25),\n",
       " (74, 685.47),\n",
       " (75, 666.8),\n",
       " (76, 660.14),\n",
       " (77, 808.87),\n",
       " (78, 1508.36),\n",
       " (79, 1818.12),\n",
       " (80, 1668.96),\n",
       " (81, 880.71),\n",
       " (82, 799.17),\n",
       " (83, 799.95),\n",
       " (84, 825.08),\n",
       " (85, 844.45),\n",
       " (86, 873.71),\n",
       " (87, 854.17),\n",
       " (88, 868.71),\n",
       " (89, 897.14),\n",
       " (90, 1316.22),\n",
       " (91, 1833.16),\n",
       " (92, 2005.29),\n",
       " (93, 1429.68),\n",
       " (94, 1160.86),\n",
       " (95, 1193.3),\n",
       " (96, 1214.99),\n",
       " (97, 1237.42),\n",
       " (98, 1219.93),\n",
       " (99, 1247.25),\n",
       " (100, 1220.16),\n",
       " (101, 1245.59),\n",
       " (102, 1293.45),\n",
       " (103, 1914.29),\n",
       " (104, 2208.61),\n",
       " (105, 2135.76),\n",
       " (106, 1525.0),\n",
       " (107, 1425.74),\n",
       " (108, 1430.5),\n",
       " (109, 1436.17),\n",
       " (110, 1411.91),\n",
       " (111, 1433.67),\n",
       " (112, 1438.28),\n",
       " (113, 1431.22),\n",
       " (114, 1431.38),\n",
       " (115, 1500.64),\n",
       " (116, 2157.88),\n",
       " (117, 2407.66),\n",
       " (118, 2330.91),\n",
       " (119, 1549.0),\n",
       " (120, 1465.12),\n",
       " (121, 1434.21),\n",
       " (122, 1430.18),\n",
       " (123, 1424.7),\n",
       " (124, 1432.14),\n",
       " (125, 1390.42),\n",
       " (126, 1382.26),\n",
       " (127, 1406.33),\n",
       " (128, 1956.91),\n",
       " (129, 2479.67),\n",
       " (130, 2544.07),\n",
       " (131, 1714.25),\n",
       " (132, 1420.41),\n",
       " (133, 1399.24),\n",
       " (134, 1399.26),\n",
       " (135, 1374.46),\n",
       " (136, 1404.84),\n",
       " (137, 1380.99),\n",
       " (138, 1391.16),\n",
       " (139, 1380.79),\n",
       " (140, 1401.96),\n",
       " (141, 1393.16),\n",
       " (142, 1410.36),\n",
       " (143, 1363.18),\n",
       " (144, 1381.75),\n",
       " (145, 1357.86),\n",
       " (146, 1353.22),\n",
       " (147, 1322.57),\n",
       " (148, 1341.91),\n",
       " (149, 1310.68),\n",
       " (150, 1309.12),\n",
       " (151, 1287.5),\n",
       " (152, 1299.28),\n",
       " (153, 1274.64),\n",
       " (154, 1274.47),\n",
       " (155, 1238.37),\n",
       " (156, 1250.54),\n",
       " (157, 1239.36),\n",
       " (158, 1267.33),\n",
       " (159, 1279.39),\n",
       " (160, 1329.07),\n",
       " (161, 1308.61),\n",
       " (162, 1311.13),\n",
       " (163, 1291.54),\n",
       " (164, 1312.57),\n",
       " (165, 1286.38),\n",
       " (166, 1276.3),\n",
       " (167, 1265.42),\n",
       " (168, 1311.64),\n",
       " (169, 1297.84),\n",
       " (170, 1301.5),\n",
       " (171, 1247.32),\n",
       " (172, 1240.38),\n",
       " (173, 1183.01),\n",
       " (174, 1159.38),\n",
       " (175, 1141.28),\n",
       " (176, 1154.21),\n",
       " (177, 1135.16),\n",
       " (178, 1136.87),\n",
       " (179, 1092.14),\n",
       " (180, 1101.43),\n",
       " (181, 1071.0),\n",
       " (182, 1061.36),\n",
       " (183, 1033.72),\n",
       " (184, 1057.5),\n",
       " (185, 1029.32),\n",
       " (186, 1041.55),\n",
       " (187, 1026.13),\n",
       " (188, 1041.11),\n",
       " (189, 1020.47),\n",
       " (190, 1029.59),\n",
       " (191, 1002.78),\n",
       " (192, 1014.39),\n",
       " (193, 984.04),\n",
       " (194, 971.51),\n",
       " (195, 948.83),\n",
       " (196, 971.74),\n",
       " (197, 945.12),\n",
       " (198, 956.32),\n",
       " (199, 943.59),\n",
       " (200, 958.93),\n",
       " (201, 940.33),\n",
       " (202, 939.18),\n",
       " (203, 907.59),\n",
       " (204, 924.99),\n",
       " (205, 906.71),\n",
       " (206, 896.24),\n",
       " (207, 875.99),\n",
       " (208, 905.54),\n",
       " (209, 889.3),\n",
       " (210, 924.67),\n",
       " (211, 922.99),\n",
       " (212, 956.13),\n",
       " (213, 943.62),\n",
       " (214, 929.18),\n",
       " (215, 902.09),\n",
       " (216, 932.45),\n",
       " (217, 917.96),\n",
       " (218, 926.79),\n",
       " (219, 920.16),\n",
       " (220, 951.16),\n",
       " (221, 934.37),\n",
       " (222, 956.04),\n",
       " (223, 1551.59),\n",
       " (224, 2195.42),\n",
       " (225, 2147.22),\n",
       " (226, 1394.32),\n",
       " (227, 1061.93),\n",
       " (228, 1093.89),\n",
       " (229, 1083.45),\n",
       " (230, 1073.7),\n",
       " (231, 1064.58),\n",
       " (232, 1106.07),\n",
       " (233, 1113.88),\n",
       " (234, 1112.83),\n",
       " (235, 1225.57),\n",
       " (236, 1999.03),\n",
       " (237, 2283.72),\n",
       " (238, 1954.91),\n",
       " (239, 1246.55),\n",
       " (240, 1263.2),\n",
       " (241, 1265.86),\n",
       " (242, 1266.33),\n",
       " (243, 1246.2),\n",
       " (244, 1270.67),\n",
       " (245, 1230.22),\n",
       " (246, 1183.41),\n",
       " (247, 1152.04),\n",
       " (248, 1618.21),\n",
       " (249, 2360.24),\n",
       " (250, 2352.29),\n",
       " (251, 1662.83),\n",
       " (252, 1260.33),\n",
       " (253, 1257.04),\n",
       " (254, 1245.68),\n",
       " (255, 1217.62),\n",
       " (256, 1252.09),\n",
       " (257, 1227.68),\n",
       " (258, 1228.05),\n",
       " (259, 1186.08),\n",
       " (260, 1223.01),\n",
       " (261, 1803.87),\n",
       " (262, 2449.55),\n",
       " (263, 2381.0),\n",
       " (264, 1641.7),\n",
       " (265, 1271.84),\n",
       " (266, 1271.67),\n",
       " (267, 1256.28),\n",
       " (268, 1286.59),\n",
       " (269, 1276.16),\n",
       " (270, 1262.55),\n",
       " (271, 1238.45),\n",
       " (272, 1254.07),\n",
       " (273, 1626.67),\n",
       " (274, 2504.3),\n",
       " (275, 2482.38),\n",
       " (276, 2007.66),\n",
       " (277, 1326.62),\n",
       " (278, 1328.53),\n",
       " (279, 1291.64),\n",
       " (280, 1307.45),\n",
       " (281, 1288.24),\n",
       " (282, 1293.88),\n",
       " (283, 1277.24),\n",
       " (284, 1308.08),\n",
       " (285, 1335.34),\n",
       " (286, 1359.97),\n",
       " (287, 1338.55),\n",
       " (288, 1349.08),\n",
       " (289, 1329.57),\n",
       " (290, 1316.13),\n",
       " (291, 1285.74),\n",
       " (292, 1296.8),\n",
       " (293, 1285.03),\n",
       " (294, 1297.37),\n",
       " (295, 1471.3),\n",
       " (296, 1664.79),\n",
       " (297, 1668.57),\n",
       " (298, 1692.22),\n",
       " (299, 1314.14),\n",
       " (300, 1304.76),\n",
       " (301, 1280.68),\n",
       " (302, 1274.13),\n",
       " (303, 1222.88),\n",
       " (304, 1239.55),\n",
       " (305, 1222.51),\n",
       " (306, 1221.04),\n",
       " (307, 1187.0),\n",
       " (308, 1195.54),\n",
       " (309, 1195.41),\n",
       " (310, 1227.96),\n",
       " (311, 1189.12),\n",
       " (312, 1194.18),\n",
       " (313, 1161.87),\n",
       " (314, 1145.08),\n",
       " (315, 1101.2),\n",
       " (316, 1118.72),\n",
       " (317, 1104.37),\n",
       " (318, 1104.87),\n",
       " (319, 1058.68),\n",
       " (320, 1069.07),\n",
       " (321, 1069.33),\n",
       " (322, 1074.37),\n",
       " (323, 1032.68),\n",
       " (324, 1054.64),\n",
       " (325, 1028.47),\n",
       " (326, 1008.66),\n",
       " (327, 965.25),\n",
       " (328, 989.72),\n",
       " (329, 974.28),\n",
       " (330, 988.55),\n",
       " (331, 947.42),\n",
       " (332, 951.38),\n",
       " (333, 949.45),\n",
       " (334, 953.99),\n",
       " (335, 919.82),\n",
       " (336, 1002.24),\n",
       " (337, 991.45),\n",
       " (338, 974.32),\n",
       " (339, 912.04),\n",
       " (340, 954.01),\n",
       " (341, 940.04),\n",
       " (342, 956.39),\n",
       " (343, 880.62),\n",
       " (344, 853.32),\n",
       " (345, 848.92),\n",
       " (346, 859.54),\n",
       " (347, 817.91),\n",
       " (348, 841.92),\n",
       " (349, 832.32),\n",
       " (350, 815.96),\n",
       " (351, 767.59),\n",
       " (352, 778.28),\n",
       " (353, 763.87),\n",
       " (354, 776.53),\n",
       " (355, 762.63),\n",
       " (356, 772.86),\n",
       " (357, 766.16),\n",
       " (358, 775.72),\n",
       " (359, 732.63),\n",
       " (360, 759.5),\n",
       " (361, 751.62),\n",
       " (362, 762.68),\n",
       " (363, 733.78),\n",
       " (364, 750.11),\n",
       " (365, 746.32),\n",
       " (366, 765.46),\n",
       " (367, 738.54),\n",
       " (368, 753.11),\n",
       " (369, 728.04),\n",
       " (370, 726.84),\n",
       " (371, 688.22),\n",
       " (372, 707.93),\n",
       " (373, 700.18),\n",
       " (374, 698.87),\n",
       " (375, 656.26),\n",
       " (376, 665.75),\n",
       " (377, 639.5),\n",
       " (378, 644.28),\n",
       " (379, 609.68),\n",
       " (380, 629.54),\n",
       " (381, 620.17)]"
      ]
     },
     "execution_count": 582,
     "metadata": {
      "tags": []
     },
     "output_type": "execute_result"
    }
   ],
   "source": [
    "lst = []\n",
    "for i in range(accumulator.shape[0]):\n",
    "  numbers = [accumulator[i,j] for j in range(accumulator.shape[1])]\n",
    "  lst.append((i,np.round(np.mean(numbers),2)))\n",
    "\n",
    "lst"
   ]
  },
  {
   "cell_type": "code",
   "execution_count": null,
   "metadata": {
    "colab": {
     "base_uri": "https://localhost:8080/"
    },
    "id": "dimFqKfSA8HZ",
    "outputId": "6c938ee8-4d08-46c5-c081-50047245c034"
   },
   "outputs": [
    {
     "name": "stdout",
     "output_type": "stream",
     "text": [
      "[(130, 2544.07), (274, 2504.3), (275, 2482.38), (129, 2479.67), (262, 2449.55), (117, 2407.66), (263, 2381.0), (249, 2360.24), (250, 2352.29), (118, 2330.91), (237, 2283.72), (104, 2208.61), (224, 2195.42), (116, 2157.88), (225, 2147.22), (105, 2135.76), (276, 2007.66), (92, 2005.29), (236, 1999.03), (128, 1956.91), (238, 1954.91), (103, 1914.29), (91, 1833.16), (79, 1818.12), (261, 1803.87), (131, 1714.25), (298, 1692.22), (80, 1668.96), (297, 1668.57), (296, 1664.79), (251, 1662.83), (264, 1641.7), (273, 1626.67), (248, 1618.21), (223, 1551.59), (119, 1549.0), (106, 1525.0), (78, 1508.36), (115, 1500.64), (295, 1471.3), (120, 1465.12), (112, 1438.28), (109, 1436.17), (121, 1434.21), (111, 1433.67), (124, 1432.14), (114, 1431.38), (113, 1431.22), (108, 1430.5), (122, 1430.18), (93, 1429.68), (107, 1425.74), (123, 1424.7), (132, 1420.41), (110, 1411.91), (142, 1410.36), (127, 1406.33), (136, 1404.84), (140, 1401.96), (134, 1399.26), (133, 1399.24), (226, 1394.32), (141, 1393.16), (138, 1391.16), (125, 1390.42), (126, 1382.26), (144, 1381.75), (137, 1380.99), (139, 1380.79), (135, 1374.46), (143, 1363.18), (286, 1359.97), (145, 1357.86), (146, 1353.22), (288, 1349.08), (148, 1341.91), (287, 1338.55), (285, 1335.34), (289, 1329.57), (160, 1329.07), (278, 1328.53), (277, 1326.62), (147, 1322.57), (90, 1316.22), (290, 1316.13), (299, 1314.14), (164, 1312.57), (168, 1311.64), (162, 1311.13), (149, 1310.68), (150, 1309.12), (161, 1308.61), (284, 1308.08), (280, 1307.45), (300, 1304.76), (170, 1301.5), (152, 1299.28), (169, 1297.84), (294, 1297.37), (292, 1296.8), (282, 1293.88), (102, 1293.45), (279, 1291.64), (163, 1291.54), (281, 1288.24), (151, 1287.5), (268, 1286.59), (165, 1286.38), (291, 1285.74), (293, 1285.03), (301, 1280.68), (159, 1279.39), (283, 1277.24), (166, 1276.3), (269, 1276.16), (153, 1274.64), (154, 1274.47), (302, 1274.13), (265, 1271.84), (266, 1271.67), (244, 1270.67), (158, 1267.33), (242, 1266.33), (241, 1265.86), (167, 1265.42), (240, 1263.2), (270, 1262.55), (252, 1260.33), (253, 1257.04), (267, 1256.28), (272, 1254.07), (256, 1252.09), (156, 1250.54), (171, 1247.32), (99, 1247.25), (239, 1246.55), (243, 1246.2), (254, 1245.68), (101, 1245.59), (172, 1240.38), (304, 1239.55), (157, 1239.36), (271, 1238.45), (155, 1238.37), (97, 1237.42), (245, 1230.22), (258, 1228.05), (310, 1227.96), (257, 1227.68), (235, 1225.57), (260, 1223.01), (303, 1222.88), (305, 1222.51), (306, 1221.04), (100, 1220.16), (98, 1219.93), (255, 1217.62), (96, 1214.99), (308, 1195.54), (309, 1195.41), (312, 1194.18), (95, 1193.3), (311, 1189.12), (307, 1187.0), (259, 1186.08), (246, 1183.41), (173, 1183.01), (313, 1161.87), (94, 1160.86), (174, 1159.38), (176, 1154.21), (247, 1152.04), (314, 1145.08), (175, 1141.28), (178, 1136.87), (177, 1135.16), (316, 1118.72), (233, 1113.88), (234, 1112.83), (232, 1106.07), (318, 1104.87), (317, 1104.37), (180, 1101.43), (315, 1101.2), (228, 1093.89), (179, 1092.14), (229, 1083.45), (322, 1074.37), (230, 1073.7), (181, 1071.0), (321, 1069.33), (320, 1069.07), (231, 1064.58), (227, 1061.93), (182, 1061.36), (319, 1058.68), (184, 1057.5), (324, 1054.64), (186, 1041.55), (188, 1041.11), (183, 1033.72), (323, 1032.68), (190, 1029.59), (185, 1029.32), (325, 1028.47), (187, 1026.13), (189, 1020.47), (192, 1014.39), (326, 1008.66), (191, 1002.78), (336, 1002.24), (337, 991.45), (328, 989.72), (330, 988.55), (193, 984.04), (338, 974.32), (329, 974.28), (196, 971.74), (194, 971.51), (327, 965.25), (200, 958.93), (342, 956.39), (198, 956.32), (212, 956.13), (222, 956.04), (340, 954.01), (334, 953.99), (332, 951.38), (220, 951.16), (333, 949.45), (195, 948.83), (331, 947.42), (197, 945.12), (213, 943.62), (199, 943.59), (201, 940.33), (341, 940.04), (202, 939.18), (221, 934.37), (216, 932.45), (214, 929.18), (218, 926.79), (67, 925.01), (204, 924.99), (210, 924.67), (211, 922.99), (219, 920.16), (335, 919.82), (217, 917.96), (66, 912.66), (339, 912.04), (203, 907.59), (205, 906.71), (208, 905.54), (215, 902.09), (89, 897.14), (206, 896.24), (209, 889.3), (81, 880.71), (343, 880.62), (207, 875.99), (86, 873.71), (88, 868.71), (346, 859.54), (87, 854.17), (344, 853.32), (345, 848.92), (85, 844.45), (348, 841.92), (68, 836.8), (349, 832.32), (84, 825.08), (347, 817.91), (350, 815.96), (77, 808.87), (83, 799.95), (82, 799.17), (65, 780.36), (352, 778.28), (354, 776.53), (358, 775.72), (356, 772.86), (351, 767.59), (357, 766.16), (366, 765.46), (353, 763.87), (362, 762.68), (355, 762.63), (360, 759.5), (368, 753.11), (361, 751.62), (364, 750.11), (365, 746.32), (367, 738.54), (363, 733.78), (359, 732.63), (369, 728.04), (370, 726.84), (69, 719.72), (372, 707.93), (373, 700.18), (374, 698.87), (73, 693.25), (72, 688.76), (371, 688.22), (74, 685.47), (75, 666.8), (376, 665.75), (70, 663.76), (64, 663.36), (76, 660.14), (71, 658.74), (375, 656.26), (378, 644.28), (377, 639.5), (380, 629.54), (381, 620.17), (379, 609.68), (54, 603.04), (55, 601.47), (53, 583.75), (63, 579.34), (60, 578.29), (61, 563.86), (62, 562.25), (56, 557.43), (59, 548.42), (52, 539.92), (58, 526.18), (57, 513.72), (51, 502.5), (50, 492.08), (49, 478.91), (48, 459.2), (47, 423.46), (46, 381.97), (45, 323.09), (44, 305.29), (43, 294.55), (42, 284.72), (41, 270.75), (40, 252.97), (37, 233.18), (36, 226.29), (39, 223.93), (34, 222.8), (35, 222.74), (38, 220.55), (32, 194.67), (29, 194.43), (31, 194.34), (28, 194.07), (30, 193.83), (33, 188.7), (27, 183.45), (13, 166.53), (26, 164.64), (12, 164.13), (25, 156.96), (24, 145.37), (11, 141.96), (22, 138.29), (21, 131.71), (23, 130.64), (14, 129.12), (10, 127.29), (1, 122.76), (15, 117.49), (16, 116.42), (17, 111.5), (20, 106.32), (18, 105.37), (0, 103.62), (19, 101.47), (2, 98.13), (9, 85.75), (3, 80.28), (4, 70.07), (5, 66.74), (6, 61.14), (7, 55.54), (8, 53.64)]\n"
     ]
    }
   ],
   "source": [
    "lst.sort(key=lambda x:x[1],reverse=True)\n",
    "print(lst)\n",
    "\n",
    "#lst1 = lst[0:100]"
   ]
  },
  {
   "cell_type": "code",
   "execution_count": null,
   "metadata": {
    "id": "dNOZCrvJDDA1"
   },
   "outputs": [],
   "source": [
    "lst1= [t for t in lst if t[1]>1000]"
   ]
  },
  {
   "cell_type": "code",
   "execution_count": null,
   "metadata": {
    "colab": {
     "base_uri": "https://localhost:8080/"
    },
    "id": "qU2eECASB6ng",
    "outputId": "3f59eb5a-2ce4-4a82-a8bd-4bac7cf25e18"
   },
   "outputs": [
    {
     "name": "stdout",
     "output_type": "stream",
     "text": [
      "[(78, 1508.36), (79, 1818.12), (80, 1668.96), (90, 1316.22), (91, 1833.16), (92, 2005.29), (93, 1429.68), (94, 1160.86), (95, 1193.3), (96, 1214.99), (97, 1237.42), (98, 1219.93), (99, 1247.25), (100, 1220.16), (101, 1245.59), (102, 1293.45), (103, 1914.29), (104, 2208.61), (105, 2135.76), (106, 1525.0), (107, 1425.74), (108, 1430.5), (109, 1436.17), (110, 1411.91), (111, 1433.67), (112, 1438.28), (113, 1431.22), (114, 1431.38), (115, 1500.64), (116, 2157.88), (117, 2407.66), (118, 2330.91), (119, 1549.0), (120, 1465.12), (121, 1434.21), (122, 1430.18), (123, 1424.7), (124, 1432.14), (125, 1390.42), (126, 1382.26), (127, 1406.33), (128, 1956.91), (129, 2479.67), (130, 2544.07), (131, 1714.25), (132, 1420.41), (133, 1399.24), (134, 1399.26), (135, 1374.46), (136, 1404.84), (137, 1380.99), (138, 1391.16), (139, 1380.79), (140, 1401.96), (141, 1393.16), (142, 1410.36), (143, 1363.18), (144, 1381.75), (145, 1357.86), (146, 1353.22), (147, 1322.57), (148, 1341.91), (149, 1310.68), (150, 1309.12), (151, 1287.5), (152, 1299.28), (153, 1274.64), (154, 1274.47), (155, 1238.37), (156, 1250.54), (157, 1239.36), (158, 1267.33), (159, 1279.39), (160, 1329.07), (161, 1308.61), (162, 1311.13), (163, 1291.54), (164, 1312.57), (165, 1286.38), (166, 1276.3), (167, 1265.42), (168, 1311.64), (169, 1297.84), (170, 1301.5), (171, 1247.32), (172, 1240.38), (173, 1183.01), (174, 1159.38), (175, 1141.28), (176, 1154.21), (177, 1135.16), (178, 1136.87), (179, 1092.14), (180, 1101.43), (181, 1071.0), (182, 1061.36), (183, 1033.72), (184, 1057.5), (185, 1029.32), (186, 1041.55), (187, 1026.13), (188, 1041.11), (189, 1020.47), (190, 1029.59), (191, 1002.78), (192, 1014.39), (223, 1551.59), (224, 2195.42), (225, 2147.22), (226, 1394.32), (227, 1061.93), (228, 1093.89), (229, 1083.45), (230, 1073.7), (231, 1064.58), (232, 1106.07), (233, 1113.88), (234, 1112.83), (235, 1225.57), (236, 1999.03), (237, 2283.72), (238, 1954.91), (239, 1246.55), (240, 1263.2), (241, 1265.86), (242, 1266.33), (243, 1246.2), (244, 1270.67), (245, 1230.22), (246, 1183.41), (247, 1152.04), (248, 1618.21), (249, 2360.24), (250, 2352.29), (251, 1662.83), (252, 1260.33), (253, 1257.04), (254, 1245.68), (255, 1217.62), (256, 1252.09), (257, 1227.68), (258, 1228.05), (259, 1186.08), (260, 1223.01), (261, 1803.87), (262, 2449.55), (263, 2381.0), (264, 1641.7), (265, 1271.84), (266, 1271.67), (267, 1256.28), (268, 1286.59), (269, 1276.16), (270, 1262.55), (271, 1238.45), (272, 1254.07), (273, 1626.67), (274, 2504.3), (275, 2482.38), (276, 2007.66), (277, 1326.62), (278, 1328.53), (279, 1291.64), (280, 1307.45), (281, 1288.24), (282, 1293.88), (283, 1277.24), (284, 1308.08), (285, 1335.34), (286, 1359.97), (287, 1338.55), (288, 1349.08), (289, 1329.57), (290, 1316.13), (291, 1285.74), (292, 1296.8), (293, 1285.03), (294, 1297.37), (295, 1471.3), (296, 1664.79), (297, 1668.57), (298, 1692.22), (299, 1314.14), (300, 1304.76), (301, 1280.68), (302, 1274.13), (303, 1222.88), (304, 1239.55), (305, 1222.51), (306, 1221.04), (307, 1187.0), (308, 1195.54), (309, 1195.41), (310, 1227.96), (311, 1189.12), (312, 1194.18), (313, 1161.87), (314, 1145.08), (315, 1101.2), (316, 1118.72), (317, 1104.37), (318, 1104.87), (319, 1058.68), (320, 1069.07), (321, 1069.33), (322, 1074.37), (323, 1032.68), (324, 1054.64), (325, 1028.47), (326, 1008.66), (336, 1002.24)]\n",
      "301.67199999999997\n"
     ]
    }
   ],
   "source": [
    "lst1.sort(key=lambda x:x[0],reverse=False)\n",
    "print(lst1)\n",
    "candidate_indices = []\n",
    "var = 0.2*lst1[0][1]\n",
    "print(var)"
   ]
  },
  {
   "cell_type": "code",
   "execution_count": null,
   "metadata": {
    "colab": {
     "base_uri": "https://localhost:8080/"
    },
    "id": "vtnDnMrQJ1Iv",
    "outputId": "f0d394fa-ae49-420f-dc80-7dc60deeee09"
   },
   "outputs": [
    {
     "data": {
      "text/plain": [
       "78"
      ]
     },
     "execution_count": 586,
     "metadata": {
      "tags": []
     },
     "output_type": "execute_result"
    }
   ],
   "source": [
    "treble_stave= lst1[0][0]\n",
    "treble_stave"
   ]
  },
  {
   "cell_type": "code",
   "execution_count": null,
   "metadata": {
    "colab": {
     "base_uri": "https://localhost:8080/"
    },
    "id": "80-vceMoF3IV",
    "outputId": "bf914a1f-ddd9-490f-861a-01a1b431dc4e"
   },
   "outputs": [
    {
     "data": {
      "text/plain": [
       "[(55, 1214.68),\n",
       " (56, 1491.29),\n",
       " (57, 1724.19),\n",
       " (58, 1447.39),\n",
       " (71, 1022.52),\n",
       " (72, 1780.89),\n",
       " (73, 1915.06),\n",
       " (74, 2010.33),\n",
       " (75, 1439.35),\n",
       " (76, 1015.42),\n",
       " (88, 1805.53),\n",
       " (89, 2036.0),\n",
       " (90, 2171.08),\n",
       " (91, 2303.85),\n",
       " (92, 1371.78),\n",
       " (93, 1255.41),\n",
       " (94, 1184.05),\n",
       " (95, 1126.29),\n",
       " (96, 1116.0),\n",
       " (97, 1154.01),\n",
       " (98, 1143.73),\n",
       " (99, 1154.37),\n",
       " (100, 1155.58),\n",
       " (101, 1124.8),\n",
       " (102, 1104.28),\n",
       " (103, 1138.72),\n",
       " (104, 1485.16),\n",
       " (105, 2214.73),\n",
       " (106, 2397.1),\n",
       " (107, 2562.99),\n",
       " (108, 2207.63),\n",
       " (109, 1747.42),\n",
       " (110, 1594.16),\n",
       " (111, 1531.23),\n",
       " (112, 1447.99),\n",
       " (113, 1444.34),\n",
       " (114, 1448.49),\n",
       " (115, 1482.1),\n",
       " (116, 1482.62),\n",
       " (117, 1488.81),\n",
       " (118, 1490.22),\n",
       " (119, 1492.67),\n",
       " (120, 1486.57),\n",
       " (121, 1818.08),\n",
       " (122, 2672.68),\n",
       " (123, 2792.33),\n",
       " (124, 2874.18),\n",
       " (125, 2548.38),\n",
       " (126, 1963.24),\n",
       " (127, 1791.14),\n",
       " (128, 1734.85),\n",
       " (129, 1727.1),\n",
       " (130, 1729.43),\n",
       " (131, 1753.61),\n",
       " (132, 1771.47),\n",
       " (133, 1813.99),\n",
       " (134, 1860.94),\n",
       " (135, 1910.87),\n",
       " (136, 1970.22),\n",
       " (137, 2132.96),\n",
       " (138, 2182.97),\n",
       " (139, 2279.75),\n",
       " (140, 2317.68),\n",
       " (141, 2338.76),\n",
       " (142, 2247.29),\n",
       " (143, 2211.84),\n",
       " (144, 2176.11),\n",
       " (145, 2137.34),\n",
       " (146, 2065.24),\n",
       " (147, 2037.06),\n",
       " (148, 2027.15),\n",
       " (149, 2018.77),\n",
       " (150, 1972.85),\n",
       " (151, 1983.61),\n",
       " (152, 1955.49),\n",
       " (153, 1965.91),\n",
       " (154, 1973.82),\n",
       " (155, 1981.94),\n",
       " (156, 1980.2),\n",
       " (157, 2016.59),\n",
       " (158, 1984.46),\n",
       " (159, 1955.62),\n",
       " (160, 1935.22),\n",
       " (161, 1935.65),\n",
       " (162, 1912.23),\n",
       " (163, 1924.76),\n",
       " (164, 1920.94),\n",
       " (165, 1918.57),\n",
       " (166, 1895.58),\n",
       " (167, 1827.62),\n",
       " (168, 1799.97),\n",
       " (169, 1790.58),\n",
       " (170, 1754.27),\n",
       " (171, 1746.67),\n",
       " (172, 1743.11),\n",
       " (173, 1752.38),\n",
       " (174, 1731.18),\n",
       " (175, 1742.95),\n",
       " (176, 1733.13),\n",
       " (177, 1731.13),\n",
       " (178, 1735.05),\n",
       " (179, 1726.27),\n",
       " (180, 1718.8),\n",
       " (181, 1737.84),\n",
       " (182, 1736.66),\n",
       " (183, 1745.96),\n",
       " (184, 1745.09),\n",
       " (185, 1735.01),\n",
       " (186, 1707.24),\n",
       " (187, 1698.39),\n",
       " (188, 1683.86),\n",
       " (189, 1687.19),\n",
       " (190, 1671.95),\n",
       " (191, 1668.15),\n",
       " (192, 1661.44),\n",
       " (193, 1671.24),\n",
       " (194, 1662.63),\n",
       " (195, 1673.33),\n",
       " (196, 1675.38),\n",
       " (197, 1660.91),\n",
       " (198, 1635.51),\n",
       " (199, 1639.77),\n",
       " (200, 1616.72),\n",
       " (201, 1595.13),\n",
       " (202, 1553.42),\n",
       " (203, 1532.96),\n",
       " (204, 1511.62),\n",
       " (205, 1515.68),\n",
       " (206, 1498.28),\n",
       " (207, 1489.24),\n",
       " (208, 1476.65),\n",
       " (209, 1472.0),\n",
       " (210, 1455.04),\n",
       " (211, 1469.86),\n",
       " (212, 1454.89),\n",
       " (213, 1442.54),\n",
       " (214, 1434.06),\n",
       " (215, 1416.19),\n",
       " (216, 1393.76),\n",
       " (217, 1393.43),\n",
       " (218, 1381.22),\n",
       " (219, 1385.14),\n",
       " (220, 1385.27),\n",
       " (221, 1381.9),\n",
       " (222, 1354.97),\n",
       " (223, 1353.62),\n",
       " (224, 1346.01),\n",
       " (225, 1338.59),\n",
       " (226, 1338.33),\n",
       " (227, 1335.68),\n",
       " (228, 1333.04),\n",
       " (229, 1342.38),\n",
       " (230, 1338.14),\n",
       " (231, 1327.52),\n",
       " (232, 1324.72),\n",
       " (233, 1311.92),\n",
       " (234, 1308.04),\n",
       " (235, 1319.54),\n",
       " (236, 1306.71),\n",
       " (237, 1294.11),\n",
       " (238, 1332.06),\n",
       " (239, 1338.77),\n",
       " (240, 1344.72),\n",
       " (241, 1368.8),\n",
       " (242, 1378.82),\n",
       " (243, 1385.01),\n",
       " (244, 1395.8),\n",
       " (245, 1405.1),\n",
       " (246, 1392.15),\n",
       " (247, 1409.27),\n",
       " (248, 1397.84),\n",
       " (249, 1369.38),\n",
       " (250, 1365.89),\n",
       " (251, 1364.08),\n",
       " (252, 1351.39),\n",
       " (253, 1355.54),\n",
       " (254, 1345.04),\n",
       " (255, 1342.06),\n",
       " (256, 1340.33),\n",
       " (257, 1350.25),\n",
       " (258, 1343.56),\n",
       " (259, 1355.38),\n",
       " (260, 1353.18),\n",
       " (261, 1358.68),\n",
       " (262, 1353.59),\n",
       " (263, 1349.23),\n",
       " (264, 1346.75),\n",
       " (265, 1775.14),\n",
       " (266, 2495.76),\n",
       " (267, 2704.44),\n",
       " (268, 2704.05),\n",
       " (269, 2001.48),\n",
       " (270, 1843.01),\n",
       " (271, 1794.95),\n",
       " (272, 1692.84),\n",
       " (273, 1632.67),\n",
       " (274, 1645.29),\n",
       " (275, 1659.05),\n",
       " (276, 1663.41),\n",
       " (277, 1676.94),\n",
       " (278, 1690.87),\n",
       " (279, 1688.53),\n",
       " (280, 1703.37),\n",
       " (281, 1745.75),\n",
       " (282, 2744.85),\n",
       " (283, 2853.46),\n",
       " (284, 2942.11),\n",
       " (285, 2757.87),\n",
       " (286, 2268.46),\n",
       " (287, 2187.75),\n",
       " (288, 2156.34),\n",
       " (289, 2131.47),\n",
       " (290, 2167.2),\n",
       " (291, 2190.28),\n",
       " (292, 2239.33),\n",
       " (293, 2232.33),\n",
       " (294, 2247.59),\n",
       " (295, 2238.33),\n",
       " (296, 2247.24),\n",
       " (297, 2233.71),\n",
       " (298, 2516.86),\n",
       " (299, 3050.44),\n",
       " (300, 3173.52),\n",
       " (301, 3256.23),\n",
       " (302, 2607.71),\n",
       " (303, 2444.58),\n",
       " (304, 2383.46),\n",
       " (305, 2314.46),\n",
       " (306, 2290.73),\n",
       " (307, 2269.09),\n",
       " (308, 2274.46),\n",
       " (309, 2268.1),\n",
       " (310, 2273.14),\n",
       " (311, 2251.59),\n",
       " (312, 2243.89),\n",
       " (313, 2243.44),\n",
       " (314, 2278.41),\n",
       " (315, 2748.32),\n",
       " (316, 3249.49),\n",
       " (317, 3418.63),\n",
       " (318, 3459.04),\n",
       " (319, 2676.73),\n",
       " (320, 2547.81),\n",
       " (321, 2442.76),\n",
       " (322, 2294.97),\n",
       " (323, 2260.7),\n",
       " (324, 2273.29),\n",
       " (325, 2260.73),\n",
       " (326, 2262.15),\n",
       " (327, 2232.56),\n",
       " (328, 2212.19),\n",
       " (329, 2204.52),\n",
       " (330, 2206.66),\n",
       " (331, 2215.35),\n",
       " (332, 3269.08),\n",
       " (333, 3383.51),\n",
       " (334, 3539.16),\n",
       " (335, 3607.49),\n",
       " (336, 2852.65),\n",
       " (337, 2477.34),\n",
       " (338, 2422.84),\n",
       " (339, 2351.75),\n",
       " (340, 2336.58),\n",
       " (341, 2340.89),\n",
       " (342, 2342.51),\n",
       " (343, 2324.27),\n",
       " (344, 2334.67),\n",
       " (345, 2283.97),\n",
       " (346, 2269.15),\n",
       " (347, 2306.44),\n",
       " (348, 2346.61),\n",
       " (349, 2348.68),\n",
       " (350, 2392.77),\n",
       " (351, 2414.15),\n",
       " (352, 2427.57),\n",
       " (353, 2394.23),\n",
       " (354, 2364.11),\n",
       " (355, 2332.85),\n",
       " (356, 2340.3),\n",
       " (357, 2278.43),\n",
       " (358, 2266.8),\n",
       " (359, 2252.35),\n",
       " (360, 2243.34),\n",
       " (361, 2178.46),\n",
       " (362, 2154.13),\n",
       " (363, 2117.54),\n",
       " (364, 2106.47),\n",
       " (365, 2081.03),\n",
       " (366, 2077.99),\n",
       " (367, 2033.53),\n",
       " (368, 2045.56),\n",
       " (369, 2004.03),\n",
       " (370, 1982.05),\n",
       " (371, 1958.59),\n",
       " (372, 1938.97),\n",
       " (373, 1891.57),\n",
       " (374, 1894.71),\n",
       " (375, 1872.76),\n",
       " (376, 1858.47),\n",
       " (377, 1813.94),\n",
       " (378, 1805.14),\n",
       " (379, 1756.99),\n",
       " (380, 1749.38),\n",
       " (381, 1708.08),\n",
       " (382, 1696.75),\n",
       " (383, 1682.65),\n",
       " (384, 1687.42),\n",
       " (385, 1647.91),\n",
       " (386, 1659.09),\n",
       " (387, 1632.13),\n",
       " (388, 1619.28),\n",
       " (389, 1596.37),\n",
       " (390, 1601.73),\n",
       " (391, 1574.35),\n",
       " (392, 1584.53),\n",
       " (393, 1557.14),\n",
       " (394, 1548.13),\n",
       " (395, 1525.82)]"
      ]
     },
     "execution_count": 524,
     "metadata": {
      "tags": []
     },
     "output_type": "execute_result"
    }
   ],
   "source": [
    "lst2 = lst1\n",
    "lst2"
   ]
  },
  {
   "cell_type": "code",
   "execution_count": null,
   "metadata": {
    "colab": {
     "base_uri": "https://localhost:8080/"
    },
    "id": "xTofZETgh0nF",
    "outputId": "e1b2e1f3-1830-45a8-8e74-33324300ac2b"
   },
   "outputs": [
    {
     "data": {
      "text/plain": [
       "[(55, 1214.68),\n",
       " (56, 1491.29),\n",
       " (57, 1724.19),\n",
       " (58, 1447.39),\n",
       " (71, 1022.52),\n",
       " (72, 1780.89),\n",
       " (73, 1915.06),\n",
       " (74, 2010.33),\n",
       " (75, 1439.35),\n",
       " (76, 1015.42),\n",
       " (88, 1805.53),\n",
       " (89, 2036.0),\n",
       " (90, 2171.08),\n",
       " (91, 2303.85),\n",
       " (92, 1371.78),\n",
       " (93, 1255.41),\n",
       " (94, 1184.05),\n",
       " (95, 1126.29),\n",
       " (96, 1116.0),\n",
       " (97, 1154.01),\n",
       " (98, 1143.73),\n",
       " (99, 1154.37),\n",
       " (100, 1155.58),\n",
       " (101, 1124.8),\n",
       " (102, 1104.28),\n",
       " (103, 1138.72),\n",
       " (104, 1485.16),\n",
       " (105, 2214.73),\n",
       " (106, 2397.1),\n",
       " (107, 2562.99),\n",
       " (108, 2207.63),\n",
       " (109, 1747.42),\n",
       " (110, 1594.16),\n",
       " (111, 1531.23),\n",
       " (112, 1447.99),\n",
       " (113, 1444.34),\n",
       " (114, 1448.49),\n",
       " (115, 1482.1),\n",
       " (116, 1482.62),\n",
       " (117, 1488.81),\n",
       " (118, 1490.22),\n",
       " (119, 1492.67),\n",
       " (120, 1486.57),\n",
       " (121, 1818.08),\n",
       " (122, 2672.68),\n",
       " (123, 2792.33),\n",
       " (124, 2874.18),\n",
       " (125, 2548.38),\n",
       " (126, 1963.24),\n",
       " (127, 1791.14),\n",
       " (128, 1734.85),\n",
       " (129, 1727.1),\n",
       " (130, 1729.43),\n",
       " (131, 1753.61),\n",
       " (132, 1771.47),\n",
       " (133, 1813.99),\n",
       " (134, 1860.94),\n",
       " (135, 1910.87),\n",
       " (136, 1970.22),\n",
       " (137, 2132.96),\n",
       " (138, 2182.97),\n",
       " (139, 2279.75),\n",
       " (140, 2317.68),\n",
       " (141, 2338.76),\n",
       " (142, 2247.29),\n",
       " (143, 2211.84),\n",
       " (144, 2176.11),\n",
       " (145, 2137.34),\n",
       " (146, 2065.24),\n",
       " (147, 2037.06),\n",
       " (148, 2027.15),\n",
       " (149, 2018.77),\n",
       " (150, 1972.85),\n",
       " (151, 1983.61),\n",
       " (152, 1955.49),\n",
       " (153, 1965.91),\n",
       " (154, 1973.82),\n",
       " (155, 1981.94),\n",
       " (156, 1980.2),\n",
       " (157, 2016.59),\n",
       " (158, 1984.46),\n",
       " (159, 1955.62),\n",
       " (160, 1935.22),\n",
       " (161, 1935.65),\n",
       " (162, 1912.23),\n",
       " (163, 1924.76),\n",
       " (164, 1920.94),\n",
       " (165, 1918.57),\n",
       " (166, 1895.58),\n",
       " (167, 1827.62),\n",
       " (168, 1799.97),\n",
       " (169, 1790.58),\n",
       " (170, 1754.27),\n",
       " (171, 1746.67),\n",
       " (172, 1743.11),\n",
       " (173, 1752.38),\n",
       " (174, 1731.18),\n",
       " (175, 1742.95),\n",
       " (176, 1733.13),\n",
       " (177, 1731.13),\n",
       " (178, 1735.05),\n",
       " (179, 1726.27),\n",
       " (180, 1718.8),\n",
       " (181, 1737.84),\n",
       " (182, 1736.66),\n",
       " (183, 1745.96),\n",
       " (184, 1745.09),\n",
       " (185, 1735.01),\n",
       " (186, 1707.24),\n",
       " (187, 1698.39),\n",
       " (188, 1683.86),\n",
       " (189, 1687.19),\n",
       " (190, 1671.95),\n",
       " (191, 1668.15),\n",
       " (192, 1661.44),\n",
       " (193, 1671.24),\n",
       " (194, 1662.63),\n",
       " (195, 1673.33),\n",
       " (196, 1675.38),\n",
       " (197, 1660.91),\n",
       " (198, 1635.51),\n",
       " (199, 1639.77),\n",
       " (200, 1616.72),\n",
       " (201, 1595.13),\n",
       " (202, 1553.42),\n",
       " (203, 1532.96),\n",
       " (204, 1511.62),\n",
       " (205, 1515.68),\n",
       " (206, 1498.28),\n",
       " (207, 1489.24),\n",
       " (208, 1476.65),\n",
       " (209, 1472.0),\n",
       " (210, 1455.04),\n",
       " (211, 1469.86),\n",
       " (212, 1454.89),\n",
       " (213, 1442.54),\n",
       " (214, 1434.06),\n",
       " (215, 1416.19),\n",
       " (216, 1393.76),\n",
       " (217, 1393.43),\n",
       " (218, 1381.22),\n",
       " (219, 1385.14),\n",
       " (220, 1385.27),\n",
       " (221, 1381.9),\n",
       " (222, 1354.97),\n",
       " (223, 1353.62),\n",
       " (224, 1346.01),\n",
       " (225, 1338.59),\n",
       " (226, 1338.33),\n",
       " (227, 1335.68),\n",
       " (228, 1333.04),\n",
       " (229, 1342.38),\n",
       " (230, 1338.14),\n",
       " (231, 1327.52),\n",
       " (232, 1324.72),\n",
       " (233, 1311.92),\n",
       " (234, 1308.04),\n",
       " (235, 1319.54),\n",
       " (236, 1306.71),\n",
       " (237, 1294.11),\n",
       " (238, 1332.06),\n",
       " (239, 1338.77),\n",
       " (240, 1344.72),\n",
       " (241, 1368.8),\n",
       " (242, 1378.82),\n",
       " (243, 1385.01),\n",
       " (244, 1395.8),\n",
       " (245, 1405.1),\n",
       " (246, 1392.15),\n",
       " (247, 1409.27),\n",
       " (248, 1397.84),\n",
       " (249, 1369.38),\n",
       " (250, 1365.89),\n",
       " (251, 1364.08),\n",
       " (252, 1351.39),\n",
       " (253, 1355.54),\n",
       " (254, 1345.04),\n",
       " (255, 1342.06),\n",
       " (256, 1340.33),\n",
       " (257, 1350.25),\n",
       " (258, 1343.56),\n",
       " (259, 1355.38),\n",
       " (260, 1353.18),\n",
       " (261, 1358.68),\n",
       " (262, 1353.59),\n",
       " (263, 1349.23),\n",
       " (264, 1346.75),\n",
       " (265, 1775.14),\n",
       " (266, 2495.76),\n",
       " (267, 2704.44),\n",
       " (268, 2704.05),\n",
       " (269, 2001.48),\n",
       " (270, 1843.01),\n",
       " (271, 1794.95),\n",
       " (272, 1692.84),\n",
       " (273, 1632.67),\n",
       " (274, 1645.29),\n",
       " (275, 1659.05),\n",
       " (276, 1663.41),\n",
       " (277, 1676.94),\n",
       " (278, 1690.87),\n",
       " (279, 1688.53),\n",
       " (280, 1703.37),\n",
       " (281, 1745.75),\n",
       " (282, 2744.85),\n",
       " (283, 2853.46),\n",
       " (284, 2942.11),\n",
       " (285, 2757.87),\n",
       " (286, 2268.46),\n",
       " (287, 2187.75),\n",
       " (288, 2156.34),\n",
       " (289, 2131.47),\n",
       " (290, 2167.2),\n",
       " (291, 2190.28),\n",
       " (292, 2239.33),\n",
       " (293, 2232.33),\n",
       " (294, 2247.59),\n",
       " (295, 2238.33),\n",
       " (296, 2247.24),\n",
       " (297, 2233.71),\n",
       " (298, 2516.86),\n",
       " (299, 3050.44),\n",
       " (300, 3173.52),\n",
       " (301, 3256.23),\n",
       " (302, 2607.71),\n",
       " (303, 2444.58),\n",
       " (304, 2383.46),\n",
       " (305, 2314.46),\n",
       " (306, 2290.73),\n",
       " (307, 2269.09),\n",
       " (308, 2274.46),\n",
       " (309, 2268.1),\n",
       " (310, 2273.14),\n",
       " (311, 2251.59),\n",
       " (312, 2243.89),\n",
       " (313, 2243.44),\n",
       " (314, 2278.41),\n",
       " (315, 2748.32),\n",
       " (316, 3249.49),\n",
       " (317, 3418.63),\n",
       " (318, 3459.04),\n",
       " (319, 2676.73),\n",
       " (320, 2547.81),\n",
       " (321, 2442.76),\n",
       " (322, 2294.97),\n",
       " (323, 2260.7),\n",
       " (324, 2273.29),\n",
       " (325, 2260.73),\n",
       " (326, 2262.15),\n",
       " (327, 2232.56),\n",
       " (328, 2212.19),\n",
       " (329, 2204.52),\n",
       " (330, 2206.66),\n",
       " (331, 2215.35),\n",
       " (332, 3269.08),\n",
       " (333, 3383.51),\n",
       " (334, 3539.16),\n",
       " (335, 3607.49),\n",
       " (336, 2852.65),\n",
       " (337, 2477.34),\n",
       " (338, 2422.84),\n",
       " (339, 2351.75),\n",
       " (340, 2336.58),\n",
       " (341, 2340.89),\n",
       " (342, 2342.51),\n",
       " (343, 2324.27),\n",
       " (344, 2334.67),\n",
       " (345, 2283.97),\n",
       " (346, 2269.15),\n",
       " (347, 2306.44),\n",
       " (348, 2346.61),\n",
       " (349, 2348.68),\n",
       " (350, 2392.77),\n",
       " (351, 2414.15),\n",
       " (352, 2427.57),\n",
       " (353, 2394.23),\n",
       " (354, 2364.11),\n",
       " (355, 2332.85),\n",
       " (356, 2340.3),\n",
       " (357, 2278.43),\n",
       " (358, 2266.8),\n",
       " (359, 2252.35),\n",
       " (360, 2243.34),\n",
       " (361, 2178.46),\n",
       " (362, 2154.13),\n",
       " (363, 2117.54),\n",
       " (364, 2106.47),\n",
       " (365, 2081.03),\n",
       " (366, 2077.99),\n",
       " (367, 2033.53),\n",
       " (368, 2045.56),\n",
       " (369, 2004.03),\n",
       " (370, 1982.05),\n",
       " (371, 1958.59),\n",
       " (372, 1938.97),\n",
       " (373, 1891.57),\n",
       " (374, 1894.71),\n",
       " (375, 1872.76),\n",
       " (376, 1858.47),\n",
       " (377, 1813.94),\n",
       " (378, 1805.14),\n",
       " (379, 1756.99),\n",
       " (380, 1749.38),\n",
       " (381, 1708.08),\n",
       " (382, 1696.75),\n",
       " (383, 1682.65),\n",
       " (384, 1687.42),\n",
       " (385, 1647.91),\n",
       " (386, 1659.09),\n",
       " (387, 1632.13),\n",
       " (388, 1619.28),\n",
       " (389, 1596.37),\n",
       " (390, 1601.73),\n",
       " (391, 1574.35),\n",
       " (392, 1584.53),\n",
       " (393, 1557.14),\n",
       " (394, 1548.13),\n",
       " (395, 1525.82)]"
      ]
     },
     "execution_count": 526,
     "metadata": {
      "tags": []
     },
     "output_type": "execute_result"
    }
   ],
   "source": [
    "lst2"
   ]
  },
  {
   "cell_type": "code",
   "execution_count": null,
   "metadata": {
    "colab": {
     "base_uri": "https://localhost:8080/"
    },
    "id": "-_lo066kGEXu",
    "outputId": "aa0b4716-63c2-4408-f3f9-348fb76518b2"
   },
   "outputs": [
    {
     "data": {
      "text/plain": [
       "array([ 1,  1,  1, 13,  1,  1,  1,  1,  1, 12,  1,  1,  1,  1,  1,  1,  1,\n",
       "        1,  1,  1,  1,  1,  1,  1,  1,  1,  1,  1,  1,  1,  1,  1,  1,  1,\n",
       "        1,  1,  1,  1,  1,  1,  1,  1,  1,  1,  1,  1,  1,  1,  1,  1,  1,\n",
       "        1,  1,  1,  1,  1,  1,  1,  1,  1,  1,  1,  1,  1,  1,  1,  1,  1,\n",
       "        1,  1,  1,  1,  1,  1,  1,  1,  1,  1,  1,  1,  1,  1,  1,  1,  1,\n",
       "        1,  1,  1,  1,  1,  1,  1,  1,  1,  1,  1,  1,  1,  1,  1,  1,  1,\n",
       "        1,  1,  1,  1,  1,  1,  1,  1,  1,  1,  1,  1,  1,  1,  1,  1,  1,\n",
       "        1,  1,  1,  1,  1,  1,  1,  1,  1,  1,  1,  1,  1,  1,  1,  1,  1,\n",
       "        1,  1,  1,  1,  1,  1,  1,  1,  1,  1,  1,  1,  1,  1,  1,  1,  1,\n",
       "        1,  1,  1,  1,  1,  1,  1,  1,  1,  1,  1,  1,  1,  1,  1,  1,  1,\n",
       "        1,  1,  1,  1,  1,  1,  1,  1,  1,  1,  1,  1,  1,  1,  1,  1,  1,\n",
       "        1,  1,  1,  1,  1,  1,  1,  1,  1,  1,  1,  1,  1,  1,  1,  1,  1,\n",
       "        1,  1,  1,  1,  1,  1,  1,  1,  1,  1,  1,  1,  1,  1,  1,  1,  1,\n",
       "        1,  1,  1,  1,  1,  1,  1,  1,  1,  1,  1,  1,  1,  1,  1,  1,  1,\n",
       "        1,  1,  1,  1,  1,  1,  1,  1,  1,  1,  1,  1,  1,  1,  1,  1,  1,\n",
       "        1,  1,  1,  1,  1,  1,  1,  1,  1,  1,  1,  1,  1,  1,  1,  1,  1,\n",
       "        1,  1,  1,  1,  1,  1,  1,  1,  1,  1,  1,  1,  1,  1,  1,  1,  1,\n",
       "        1,  1,  1,  1,  1,  1,  1,  1,  1,  1,  1,  1,  1,  1,  1,  1,  1,\n",
       "        1,  1,  1,  1,  1,  1,  1,  1,  1,  1,  1])"
      ]
     },
     "execution_count": 587,
     "metadata": {
      "tags": []
     },
     "output_type": "execute_result"
    }
   ],
   "source": [
    "indx = [lst2[k][0] for k in range(len(lst2))]\n",
    "indx\n",
    "sub =  np.diff(indx)\n",
    "sub"
   ]
  },
  {
   "cell_type": "code",
   "execution_count": null,
   "metadata": {
    "colab": {
     "base_uri": "https://localhost:8080/"
    },
    "id": "V8FUjM0lGQxV",
    "outputId": "915c44c6-c953-42bb-ddc7-deec88aa0733"
   },
   "outputs": [
    {
     "data": {
      "text/plain": [
       "array([ True, False, False, False,  True, False, False, False, False,\n",
       "       False,  True, False, False, False, False, False, False, False,\n",
       "       False, False, False, False, False, False, False, False, False,\n",
       "       False, False, False, False, False, False, False, False, False,\n",
       "       False, False, False, False, False, False, False, False, False,\n",
       "       False, False, False, False, False, False, False, False, False,\n",
       "       False, False, False, False, False, False, False, False, False,\n",
       "       False, False, False, False, False, False, False, False, False,\n",
       "       False, False, False, False, False, False, False, False, False,\n",
       "       False, False, False, False, False, False, False, False, False,\n",
       "       False, False, False, False, False, False, False, False, False,\n",
       "       False, False, False, False, False, False, False, False, False,\n",
       "       False, False, False, False, False, False, False, False, False,\n",
       "       False, False, False, False, False, False, False, False, False,\n",
       "       False, False, False, False, False, False, False, False, False,\n",
       "       False, False, False, False, False, False, False, False, False,\n",
       "       False, False, False, False, False, False, False, False, False,\n",
       "       False, False, False, False, False, False, False, False, False,\n",
       "       False, False, False, False, False, False, False, False, False,\n",
       "       False, False, False, False, False, False, False, False, False,\n",
       "       False, False, False, False, False, False, False, False, False,\n",
       "       False, False, False, False, False, False, False, False, False,\n",
       "       False, False, False, False, False, False, False, False, False,\n",
       "       False, False, False, False, False, False, False, False, False,\n",
       "       False, False, False, False, False, False, False, False, False,\n",
       "       False, False, False, False, False, False, False, False, False,\n",
       "       False, False, False, False, False, False, False, False, False,\n",
       "       False, False, False, False, False, False, False, False, False,\n",
       "       False, False, False, False, False, False, False, False, False,\n",
       "       False, False, False, False, False, False, False, False, False,\n",
       "       False, False, False, False, False, False, False, False, False,\n",
       "       False, False, False, False, False, False, False, False, False,\n",
       "       False, False, False, False, False, False, False, False, False,\n",
       "       False, False, False, False, False, False, False, False, False,\n",
       "       False, False, False, False, False, False, False, False, False,\n",
       "       False, False, False])"
      ]
     },
     "execution_count": 528,
     "metadata": {
      "tags": []
     },
     "output_type": "execute_result"
    }
   ],
   "source": [
    "condition = sub > 5\n",
    "condition = np.insert(condition,0,True)\n",
    "condition"
   ]
  },
  {
   "cell_type": "code",
   "execution_count": null,
   "metadata": {
    "colab": {
     "base_uri": "https://localhost:8080/"
    },
    "id": "2vSUsgAPGcpe",
    "outputId": "2ac881d9-9aab-4542-9597-a2f71789ce8a"
   },
   "outputs": [
    {
     "data": {
      "text/plain": [
       "[55, 71, 88]"
      ]
     },
     "execution_count": 588,
     "metadata": {
      "tags": []
     },
     "output_type": "execute_result"
    }
   ],
   "source": [
    "final_indxs = []\n",
    "for m in range(len(indx)):\n",
    "  if condition[m] == True:\n",
    "    final_indxs.append(m)\n",
    "lst3 = [lst2[i] for i in final_indxs]\n",
    "temp_lst = [lst3[k][0] for k in range(len(lst3))]\n",
    "temp_lst"
   ]
  },
  {
   "cell_type": "code",
   "execution_count": null,
   "metadata": {
    "colab": {
     "base_uri": "https://localhost:8080/"
    },
    "id": "GK6XyC-ZLniB",
    "outputId": "70df438b-3f71-474c-cdc5-86f1694eb76f"
   },
   "outputs": [
    {
     "name": "stdout",
     "output_type": "stream",
     "text": [
      "Spacing Parameter:16\n"
     ]
    }
   ],
   "source": [
    "sub =  np.diff(temp_lst)\n",
    "indexx = np.argmax(sub)+1\n",
    "treble_stave = lst3[0][0]\n",
    "treble_stave\n",
    "c = Counter(sub)\n",
    "spacing_parameter = [c.most_common(2)[k][0] for k in range(2)]\n",
    "spacing_parameter = [k for k in spacing_parameter if k%2 == 0][0]\n",
    "print(f'Spacing Parameter:{spacing_parameter}')"
   ]
  },
  {
   "cell_type": "code",
   "execution_count": null,
   "metadata": {
    "colab": {
     "base_uri": "https://localhost:8080/"
    },
    "id": "bm1dlyCDAxyK",
    "outputId": "dfce791b-367c-47c6-8b19-7d549f202792"
   },
   "outputs": [
    {
     "name": "stdout",
     "output_type": "stream",
     "text": [
      "Treble Stave Starting Coordinate: 55\n",
      "Base Stave Starting Coordinate: 88\n",
      "Spacing Parameter:16\n"
     ]
    }
   ],
   "source": [
    "sub =  np.diff(temp_lst)\n",
    "indexx = np.argmax(sub)+1\n",
    "treble_stave = lst3[0][0]\n",
    "print(f'Treble Stave Starting Coordinate: {treble_stave}')\n",
    "base_stave = lst3[indexx][0]\n",
    "print(f'Base Stave Starting Coordinate: {base_stave}')\n",
    "c = Counter(sub)\n",
    "spacing_parameter = [c.most_common(2)[k][0] for k in range(2)]\n",
    "spacing_parameter = [k for k in spacing_parameter if k%2 == 0][0]\n",
    "print(f'Spacing Parameter:{spacing_parameter}')"
   ]
  },
  {
   "cell_type": "code",
   "execution_count": null,
   "metadata": {
    "colab": {
     "base_uri": "https://localhost:8080/"
    },
    "id": "sNcucgeg6Oj8",
    "outputId": "331af0c6-044c-4454-df8e-2220598245fe"
   },
   "outputs": [
    {
     "name": "stdout",
     "output_type": "stream",
     "text": [
      "Treble Stave Starting Coordinate: 90\n",
      "Base Stave Starting Coordinate: 266\n",
      "Spacing Parameter:16\n"
     ]
    },
    {
     "data": {
      "text/plain": [
       "(90, 266, 16)"
      ]
     },
     "execution_count": 329,
     "metadata": {
      "tags": []
     },
     "output_type": "execute_result"
    }
   ],
   "source": [
    "get_coordinates_spacing(accumulator)"
   ]
  },
  {
   "cell_type": "code",
   "execution_count": null,
   "metadata": {
    "colab": {
     "base_uri": "https://localhost:8080/",
     "height": 696
    },
    "id": "Mm6LWumSNkUM",
    "outputId": "2218e58c-09e8-4b9f-ef80-cb92c2fcd8f6"
   },
   "outputs": [
    {
     "name": "stdout",
     "output_type": "stream",
     "text": [
      "(231, 46)\n",
      "6\n",
      "[65, 186, 59, 48, 54, 71, 53, 77, 42, 169, 175, 180, 174, 163, 192, 197, 198, 203, 209, 94, 100, 88, 66, 47, 76, 83, 60, 89, 82, 41, 36, 181, 185, 168, 187, 191, 30, 157, 162, 151, 204, 210, 215, 221, 99, 93, 101, 95, 105, 98]\n",
      "row coordinate of trebel 65 and row coordinate of bass stave 186 with spacing 6\n"
     ]
    },
    {
     "data": {
      "image/png": "[encoded data removed]",
      "text/plain": [
       "<Figure size 360x720 with 1 Axes>"
      ]
     },
     "metadata": {
      "needs_background": "light",
      "tags": []
     },
     "output_type": "display_data"
    }
   ],
   "source": [
    "note_image = image_path\n",
    "space, trebel_stave, bass_stave = generate_spacing_coords_hough(note_image)"
   ]
  },
  {
   "cell_type": "code",
   "execution_count": null,
   "metadata": {
    "id": "oxhFZ5w3OFvr"
   },
   "outputs": [],
   "source": []
  }
 ],
 "metadata": {
  "colab": {
   "collapsed_sections": [],
   "name": "Template_Matching_Coordinates_with_nms.ipynb",
   "provenance": []
  },
  "kernelspec": {
   "display_name": "Python 3",
   "language": "python",
   "name": "python3"
  },
  "language_info": {
   "codemirror_mode": {
    "name": "ipython",
    "version": 3
   },
   "file_extension": ".py",
   "mimetype": "text/x-python",
   "name": "python",
   "nbconvert_exporter": "python",
   "pygments_lexer": "ipython3",
   "version": "3.9.1"
  }
 },
 "nbformat": 4,
 "nbformat_minor": 4
}
