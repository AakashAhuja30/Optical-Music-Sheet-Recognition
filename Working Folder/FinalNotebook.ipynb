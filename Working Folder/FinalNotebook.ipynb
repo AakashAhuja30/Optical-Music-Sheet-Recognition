{
  "nbformat": 4,
  "nbformat_minor": 0,
  "metadata": {
    "colab": {
      "name": "FinalNotebook.ipynb",
      "provenance": [],
      "collapsed_sections": []
    },
    "kernelspec": {
      "name": "python3",
      "display_name": "Python 3"
    },
    "language_info": {
      "name": "python"
    },
    "accelerator": "GPU"
  },
  "cells": [
    {
      "cell_type": "markdown",
      "metadata": {
        "id": "TVfKtaQhJgiE"
      },
      "source": [
        "Sahil's Code Goes Here:\n",
        "Returns:\n",
        "1. Spacing Parameter\n",
        "2. Treble Stave Coordinate\n",
        "3. Base Stave Coordinate"
      ]
    },
    {
      "cell_type": "code",
      "metadata": {
        "id": "VpSvUQ4ylBH-"
      },
      "source": [
        "import numpy as np\n",
        "from matplotlib import pyplot as plt\n",
        "import os\n",
        "from PIL import Image\n",
        "import math\n",
        "import cv2\n",
        "from collections import Counter\n",
        "image_path = '/content/drive/MyDrive/CVAssignment1/images_and_sample-code/test-images/music1.png'\n",
        "from PIL import ImageFont, ImageDraw"
      ],
      "execution_count": 110,
      "outputs": []
    },
    {
      "cell_type": "code",
      "metadata": {
        "colab": {
          "base_uri": "https://localhost:8080/",
          "height": 205
        },
        "id": "bsUzEsU7nPVC",
        "outputId": "0204caf7-a308-4d28-bfce-aa11be896ffa"
      },
      "source": [
        "imgg = Image.open(image_path,mode='r').convert('L')\n",
        "img_matrix = np.array(Image.open(image_path,mode='r').convert('L'))\n",
        "res = cv2.Canny(img_matrix,threshold1 = 255, threshold2 = 255/3)\n",
        "note_image = Image.fromarray(res).convert('L')\n",
        "note_image"
      ],
      "execution_count": 111,
      "outputs": [
        {
          "output_type": "execute_result",
          "data": {
            "image/png": "[encoded data removed]",
            "text/plain": [
              "<PIL.Image.Image image mode=L size=1274x231 at 0x7FAC8C340B10>"
            ]
          },
          "metadata": {
            "tags": []
          },
          "execution_count": 111
        }
      ]
    },
    {
      "cell_type": "code",
      "metadata": {
        "id": "fwQgvWJvlDWt"
      },
      "source": [
        "def get_coordinates_spacing(image_path):\n",
        "  img_matrix = np.array(Image.open(image_path,mode='r').convert('L'))\n",
        "  res = cv2.Canny(img_matrix,threshold1 = 255, threshold2 = 255/3)\n",
        "  note_image = Image.fromarray(res).convert('L')\n",
        "  image_arr = np.array(note_image)\n",
        "  lst = []\n",
        "  for i in range(image_arr.shape[0]):\n",
        "    numbers = [image_arr[i,j] for j in range(image_arr.shape[1])]\n",
        "    lst.append((i,np.round(np.mean(numbers),2)))\n",
        "\n",
        "  lst1= [t for t in lst if t[1]>81 ]\n",
        "  lst1.sort(key=lambda x:x[0],reverse=False)\n",
        "  treble_stave= lst1[0][0]\n",
        "  indx = [lst1[k][0] for k in range(len(lst1))]\n",
        "  sub =  np.diff(indx)\n",
        "  condition = sub > 4\n",
        "  condition = np.insert(condition,0,True)\n",
        "  final_indxs = []\n",
        "  for m in range(len(indx)):\n",
        "    if condition[m] == True:\n",
        "      final_indxs.append(m)\n",
        "  \n",
        "  lst3 = [lst1[i] for i in final_indxs]\n",
        "  indexes = [element[0] for element in lst3]\n",
        "  sub =  np.diff(indexes)\n",
        "  mask = np.logical_and(sub > 4, sub < 40)\n",
        "  sub = sub[mask]\n",
        "  c = Counter(sub)\n",
        "  spacing_parameter = c.most_common(2)[0][0]\n",
        "  \n",
        "  print(f'{len(indexes)/5} sets of stave lines with mode spacing parameter:{spacing_parameter}')\n",
        "  return(indexes,spacing_parameter)"
      ],
      "execution_count": 112,
      "outputs": []
    },
    {
      "cell_type": "code",
      "metadata": {
        "colab": {
          "base_uri": "https://localhost:8080/"
        },
        "id": "GtSABU-VlFc-",
        "outputId": "f8c58915-a102-49d1-c8d2-0d61d41bf133"
      },
      "source": [
        "indexes, spacing_parameter = get_coordinates_spacing(image_path)"
      ],
      "execution_count": 113,
      "outputs": [
        {
          "output_type": "stream",
          "text": [
            "2.0 sets of stave lines with mode spacing parameter:12\n"
          ],
          "name": "stdout"
        }
      ]
    },
    {
      "cell_type": "code",
      "metadata": {
        "colab": {
          "base_uri": "https://localhost:8080/"
        },
        "id": "Yg7a3xMEZSCD",
        "outputId": "087f9b31-6486-4582-c983-9e89ceb70471"
      },
      "source": [
        "indexes"
      ],
      "execution_count": 114,
      "outputs": [
        {
          "output_type": "execute_result",
          "data": {
            "text/plain": [
              "[29, 41, 52, 64, 75, 150, 162, 173, 185, 196]"
            ]
          },
          "metadata": {
            "tags": []
          },
          "execution_count": 114
        }
      ]
    },
    {
      "cell_type": "markdown",
      "metadata": {
        "id": "ZjNb0RCWKnYz"
      },
      "source": [
        "Rescaling the templates for the image"
      ]
    },
    {
      "cell_type": "code",
      "metadata": {
        "id": "Pwf8cdGzKJTy"
      },
      "source": [
        "image_path = image_path\n",
        "template1_path = '/content/drive/MyDrive/CVAssignment1/images_and_sample-code/test-images/template1.png'\n",
        "template2_path = '/content/drive/MyDrive/CVAssignment1/images_and_sample-code/test-images/template2.png'\n",
        "template3_path = '/content/drive/MyDrive/CVAssignment1/images_and_sample-code/test-images/template3.png'\n",
        "\n",
        "im = Image.open(image_path,mode='r').convert('L')\n",
        "temp1 = Image.open(template1_path,mode=\"r\").convert('L')\n",
        "temp2 = Image.open(template2_path,mode=\"r\").convert('L')\n",
        "temp3 = Image.open(template3_path,mode=\"r\").convert('L')\n",
        "\n",
        "im_array = np.array(im)\n",
        "temp_array1 = np.array(temp1)\n",
        "temp_array2 = np.array(temp2)\n",
        "temp_array3 = np.array(temp3)\n",
        "\n",
        "height1 = temp_array1.shape[0]\n",
        "width1 = temp_array1.shape[1]\n",
        "new_height1 = spacing_parameter\n",
        "\n",
        "#maintain aspect ratio\n",
        "new_width1  = int(new_height1 * (width1 / height1))\n",
        "#Resizing temp1 image\n",
        "temp1=temp1.resize((new_width1,new_height1))\n",
        "temp_array1 = np.array(temp1)\n",
        "\n",
        "\n",
        "# scaling template from spacing parameter\n",
        "# for template2\n",
        "height2 = temp_array2.shape[0]\n",
        "width2 = temp_array2.shape[1]\n",
        "new_height2 = int(3*spacing_parameter)\n",
        "new_width2  = int(new_height2 * (width2 / height2))\n",
        "temp2 = temp2.resize((new_width2,new_height2))\n",
        "temp_array2 = np.array(temp2)\n",
        "\n",
        "# scaling template from spacing parameter\n",
        "# for template3\n",
        "height3 = temp_array3.shape[0]\n",
        "width3 = temp_array3.shape[1]\n",
        "\n",
        "new_height3 = int(2.5*spacing_parameter)\n",
        "new_width3  = int(new_height3 * (width3 / height3))\n",
        "temp3 = temp3.resize((new_width3,new_height3))\n",
        "temp_array3 = np.array(temp3)"
      ],
      "execution_count": 115,
      "outputs": []
    },
    {
      "cell_type": "markdown",
      "metadata": {
        "id": "H8gtMrRGTcqx"
      },
      "source": [
        "**Hamming Distance Template Matching**"
      ]
    },
    {
      "cell_type": "code",
      "metadata": {
        "id": "q23_RQz2LTaT"
      },
      "source": [
        "import numpy as np\n",
        "from PIL import Image, ImageDraw, ImageFilter\n",
        "import math\n",
        "import sklearn\n",
        "from sklearn.preprocessing import minmax_scale\n",
        "\n",
        "def Hamming_Distance(image_scaled,template_scaled):\n",
        "  #Padding the image to take care of boundaries \n",
        "  \n",
        "  image_padded = np.zeros(shape=(image_scaled.shape[0] + template_scaled.shape[0] - 1, image_scaled.shape[1] + template_scaled.shape[1] -1))\n",
        "  image_padded[:image_scaled.shape[0], :image_scaled.shape[1]] = image_scaled\n",
        "\n",
        "  #Calculating Hamming distance now for template matching\n",
        "  f_ij = np.zeros((image_scaled.shape[0],image_scaled.shape[1]))\n",
        "  for i in range(image_scaled.shape[0]):\n",
        "    for j in range(image_scaled.shape[1]):\n",
        "      patch = image_padded[i:template_scaled.shape[0]+i,j:template_scaled.shape[1]+j]\n",
        "      #Applying the formula given in the assignment\n",
        "      f_ij[i,j] = np.sum(np.multiply(patch,template_scaled)) + np.sum(np.multiply((1-patch),(1-template_scaled)))\n",
        "\n",
        "  f_ij_scaled = 255*(f_ij - f_ij.min())/(f_ij.max() - f_ij.min())      \n",
        "  f_ij_scaled = f_ij_scaled.astype(np.uint8)\n",
        "  return(f_ij_scaled)\n",
        "\n",
        "def template_matching(img_path,template_cutoff):\n",
        "  #template_paths = [i[0] for i in template_cutoff]\n",
        "  cutoffs = [i[1] for i in template_cutoff]\n",
        "  image_scaled = minmax_scale(np.array(Image.open(img_path,mode=\"r\").convert('L')))\n",
        "  templates_scaled = [minmax_scale(template_cutoff[i][0]) for i in range(len(template_cutoff))]\n",
        "\n",
        "  f_ijs = [Hamming_Distance(image_scaled,templates_scaled[i]) for i in range(len(templates_scaled))]\n",
        "\n",
        "  images = [Image.fromarray(np.where(f_ijs[i] > cutoffs[i],255,0).astype(np.uint8))  for i in range(len(f_ijs))]\n",
        "  \n",
        "  return(images)"
      ],
      "execution_count": 116,
      "outputs": []
    },
    {
      "cell_type": "code",
      "metadata": {
        "id": "YyqZEvcjRV9S"
      },
      "source": [
        "if image_path == '/content/drive/MyDrive/CVAssignment1/images_and_sample-code/test-images/music1.png':\n",
        "  music_cutoffs = [220,250,245]\n",
        "elif image_path == '/content/drive/MyDrive/CVAssignment1/images_and_sample-code/test-images/music2.png':\n",
        "  music_cutoffs = [230,254,237]\n",
        "elif image_path == '/content/drive/MyDrive/CVAssignment1/images_and_sample-code/test-images/music3.png':\n",
        "  music_cutoffs = [220,253,252]\n",
        "elif image_path == '/content/drive/MyDrive/CVAssignment1/images_and_sample-code/test-images/music4.png':\n",
        "  music_cutoffs = [220,253,220]\n"
      ],
      "execution_count": 117,
      "outputs": []
    },
    {
      "cell_type": "code",
      "metadata": {
        "id": "jax1tCQLLdgu"
      },
      "source": [
        "template_cutoff = [(temp_array1,music_cutoffs[0]),(temp_array2,music_cutoffs[1]),(temp_array3,music_cutoffs[2])]\n",
        "images = template_matching(image_path,template_cutoff)"
      ],
      "execution_count": 118,
      "outputs": []
    },
    {
      "cell_type": "code",
      "metadata": {
        "colab": {
          "base_uri": "https://localhost:8080/",
          "height": 205
        },
        "id": "ZhIy-CGJNKAt",
        "outputId": "578e7a70-d234-45da-a930-67d68757cb23"
      },
      "source": [
        "images[2]"
      ],
      "execution_count": 119,
      "outputs": [
        {
          "output_type": "execute_result",
          "data": {
            "image/png": "[encoded data removed]",
            "text/plain": [
              "<PIL.Image.Image image mode=L size=1274x231 at 0x7FAC8C5119D0>"
            ]
          },
          "metadata": {
            "tags": []
          },
          "execution_count": 119
        }
      ]
    },
    {
      "cell_type": "markdown",
      "metadata": {
        "id": "dJmbysZOTijA"
      },
      "source": [
        "**Note Annotation**"
      ]
    },
    {
      "cell_type": "code",
      "metadata": {
        "id": "8ZJoxkS967Ed"
      },
      "source": [
        "treble_notes = ['F','D','B','G','E']\n",
        "middle_treble_notes = ['E','C','A','F']\n",
        "base_notes = ['A','F','D','B','G']\n",
        "middle_base_notes = ['G','E','C','A']  "
      ],
      "execution_count": 120,
      "outputs": []
    },
    {
      "cell_type": "code",
      "metadata": {
        "colab": {
          "base_uri": "https://localhost:8080/"
        },
        "id": "GZ5iPbmbDtPV",
        "outputId": "f46bc7e9-d35a-4fc6-d0ef-e08d25b1a053"
      },
      "source": [
        "combine_treble_base_notes = treble_notes+base_notes\n",
        "combine_treble_base_notes"
      ],
      "execution_count": 121,
      "outputs": [
        {
          "output_type": "execute_result",
          "data": {
            "text/plain": [
              "['F', 'D', 'B', 'G', 'E', 'A', 'F', 'D', 'B', 'G']"
            ]
          },
          "metadata": {
            "tags": []
          },
          "execution_count": 121
        }
      ]
    },
    {
      "cell_type": "code",
      "metadata": {
        "colab": {
          "base_uri": "https://localhost:8080/"
        },
        "id": "GReA4PeFvnA1",
        "outputId": "c5c8f1ec-c142-4747-a966-d516773d91ce"
      },
      "source": [
        "list_notes = []\n",
        "\n",
        "for indx in enumerate(indexes):\n",
        "  if indx[0]<10:\n",
        "    list_notes.append((indx[1],combine_treble_base_notes[indx[0]]))\n",
        "  elif indx[0] >=10 and indx[0]<20:\n",
        "    list_notes.append((indx[1],combine_treble_base_notes[indx[0] % 10]))\n",
        "  \n",
        "  elif indx[0] >=20 and indx[0]<30:\n",
        "    list_notes.append((indx[1],combine_treble_base_notes[indx[0] % 10]))\n",
        "  \n",
        "  elif indx[0] >=30 and indx[0]<40:\n",
        "    list_notes.append((indx[1],combine_treble_base_notes[indx[0] % 10]))\n",
        "  \n",
        "  elif indx[0] >=40 and indx[0]<50:\n",
        "    list_notes.append((indx[1],combine_treble_base_notes[indx[0] % 10]))\n",
        "  \n",
        "  elif indx[0] >=50 and indx[0]<60:\n",
        "    list_notes.append((indx[1],combine_treble_base_notes[indx[0] % 10]))\n",
        "  \n",
        "\n",
        "list_notes"
      ],
      "execution_count": 122,
      "outputs": [
        {
          "output_type": "execute_result",
          "data": {
            "text/plain": [
              "[(29, 'F'),\n",
              " (41, 'D'),\n",
              " (52, 'B'),\n",
              " (64, 'G'),\n",
              " (75, 'E'),\n",
              " (150, 'A'),\n",
              " (162, 'F'),\n",
              " (173, 'D'),\n",
              " (185, 'B'),\n",
              " (196, 'G')]"
            ]
          },
          "metadata": {
            "tags": []
          },
          "execution_count": 122
        }
      ]
    },
    {
      "cell_type": "code",
      "metadata": {
        "colab": {
          "base_uri": "https://localhost:8080/"
        },
        "id": "bUvFc048PNj8",
        "outputId": "6a8299b1-4f59-4734-ae03-ef068457aaf0"
      },
      "source": [
        "list_coordinates = [a_tuple[0] for a_tuple in list_notes]\n",
        "print(list_coordinates)"
      ],
      "execution_count": 123,
      "outputs": [
        {
          "output_type": "stream",
          "text": [
            "[29, 41, 52, 64, 75, 150, 162, 173, 185, 196]\n"
          ],
          "name": "stdout"
        }
      ]
    },
    {
      "cell_type": "code",
      "metadata": {
        "id": "betGCWopEUJI"
      },
      "source": [
        "treble_note_f = [k[1][0] for k in enumerate(list_notes) if k[0] % 10 ==0]\n",
        "treble_note_d = [k[1][0] for k in enumerate(list_notes) if k[0] % 10 ==1]\n",
        "treble_note_b = [k[1][0] for k in enumerate(list_notes) if k[0] % 10 ==2]\n",
        "treble_note_g = [k[1][0] for k in enumerate(list_notes) if k[0] % 10 ==3]\n",
        "treble_note_e = [k[1][0] for k in enumerate(list_notes) if k[0] % 10 ==4]\n",
        "base_note_a = [k[1][0] for k in enumerate(list_notes) if k[0] % 10 ==5]\n",
        "base_note_f = [k[1][0] for k in enumerate(list_notes) if k[0] % 10 ==6]\n",
        "base_note_d = [k[1][0] for k in enumerate(list_notes) if k[0] % 10 ==7]\n",
        "base_note_b = [k[1][0] for k in enumerate(list_notes) if k[0] % 10 ==8]\n",
        "base_note_g = [k[1][0] for k in enumerate(list_notes) if k[0] % 10 ==9]"
      ],
      "execution_count": 124,
      "outputs": []
    },
    {
      "cell_type": "markdown",
      "metadata": {
        "id": "zvHjxlzWToMx"
      },
      "source": [
        "Non Maximal suppression to remove repeated bounding boxes"
      ]
    },
    {
      "cell_type": "code",
      "metadata": {
        "id": "vRyggubMOeYG"
      },
      "source": [
        "def non_max_suppression(boxes, overlap_threshold):\n",
        "    selected_boxes = []\n",
        "    x1 = boxes[:, 0]\n",
        "    y1 = boxes[:, 1]\n",
        "    x2 = boxes[:, 2]\n",
        "    y2 = boxes[:, 3]\n",
        "    area = (x2 - x1) * (y2 - y1)\n",
        "    sort_indexes = np.argsort(x1)\n",
        "\n",
        "    while len(sort_indexes) > 0:\n",
        "        last = len(sort_indexes) - 1\n",
        "        last_box = sort_indexes[last]\n",
        "        selected_boxes.append(last_box)\n",
        "        suppressed_boxes = [last]\n",
        " \n",
        "        for i in range(0, last):\n",
        "            current_box = sort_indexes[i]\n",
        " \n",
        "            max_x1 = max(x1[last_box], x1[current_box])\n",
        "            max_y1 = max(y1[last_box], y1[current_box])\n",
        "            min_x2 = min(x2[last_box], x2[current_box])\n",
        "            min_y2 = min(y2[last_box], y2[current_box])\n",
        " \n",
        "            compact_box_area = float(max(0, min_x2 - max_x1)*max(0, min_y2 - max_y1))\n",
        "            overlap_perc = compact_box_area/area[current_box]\n",
        "            if overlap_perc > overlap_threshold:\n",
        "                suppressed_boxes.append(i)\n",
        "\n",
        "        sort_indexes = np.delete(sort_indexes, suppressed_boxes)\n",
        " \n",
        "    return boxes[selected_boxes]"
      ],
      "execution_count": 125,
      "outputs": []
    },
    {
      "cell_type": "code",
      "metadata": {
        "id": "lY46L72QDO8r"
      },
      "source": [
        "def return_notes(k):\n",
        "  \n",
        "  for note in enumerate(treble_note_f):\n",
        "    if k >= treble_note_f[note[0]] - (spacing_parameter/2) -3 and k <treble_note_f[note[0]]-1:\n",
        "      text = 'F'\n",
        "      return(text)\n",
        "    elif k >= treble_note_f[note[0]]-(spacing_parameter*2)-1 and k <= treble_note_f[note[0]]-(spacing_parameter/2)-3:\n",
        "      text = ''\n",
        "      return(text)\n",
        "\n",
        "  for note in enumerate(treble_note_d):\n",
        "    if k >= treble_note_d[note[0]] - (spacing_parameter/2) -3 and k <treble_note_d[note[0]]-1:\n",
        "      text = 'D'\n",
        "      return(text)\n",
        "    elif k >= treble_note_d[note[0]]-(spacing_parameter*2)-1 and k <= treble_note_d[note[0]]-(spacing_parameter/2)-3:\n",
        "      text = 'E'\n",
        "      return(text)\n",
        "\n",
        "\n",
        "  for note in enumerate(treble_note_b):\n",
        "    if k >= treble_note_b[note[0]] - (spacing_parameter/2) -3 and k <treble_note_b[note[0]]-1:\n",
        "      text = 'B'\n",
        "      return(text)\n",
        "    elif k >= treble_note_b[note[0]]-(spacing_parameter*2)-1 and k <= treble_note_b[note[0]]-(spacing_parameter/2)-3:\n",
        "      text = 'C'\n",
        "      return(text)\n",
        "\n",
        "  for note in enumerate(treble_note_g):\n",
        "    if k >= treble_note_g[note[0]] - (spacing_parameter/2) -3 and k <treble_note_g[note[0]]-1:\n",
        "      text = 'G'\n",
        "      return(text)\n",
        "    elif k >= treble_note_g[note[0]]-(spacing_parameter*2)-1 and k <= treble_note_g[note[0]]-(spacing_parameter/2)-3:\n",
        "      text = 'A'\n",
        "      return(text)\n",
        "    \n",
        "\n",
        "  for note in enumerate(treble_note_e):\n",
        "    if k >= treble_note_e[note[0]] - (spacing_parameter/2) -3 and k <treble_note_e[note[0]]-1:\n",
        "      text = 'E'\n",
        "      return(text)\n",
        "    elif k >= treble_note_e[note[0]]-(spacing_parameter*2)-1 and k <= treble_note_e[note[0]]-(spacing_parameter/2)-3:\n",
        "      text = 'F'\n",
        "      return(text)\n",
        "    elif k >= treble_note_e[note[0]]-2 and k <= treble_note_e[note[0]]+5:\n",
        "      text = 'D'\n",
        "      return(text)\n",
        "    elif k >= treble_note_e[note[0]] + 6 and k <= treble_note_e[note[0]]+30:\n",
        "      text = 'B'\n",
        "      return(text)\n",
        "\n",
        "  for note in enumerate(base_note_a):\n",
        "    if k < base_note_a[note[0]]-13 and k >= base_note_a[note[0]] - 30:\n",
        "      text = 'C'\n",
        "      return(text)\n",
        "    \n",
        "    elif k >= base_note_a[note[0]]-12 and k <= base_note_a[note[0]]-5:\n",
        "      text = 'B'\n",
        "      return(text)\n",
        "    \n",
        "    elif k >= base_note_a[note[0]] - (spacing_parameter/2) -3 and k <base_note_a[note[0]]-1:\n",
        "      text = 'A'\n",
        "      return(text)\n",
        "\n",
        "  for note in enumerate(base_note_f):\n",
        "    if k >= base_note_f[note[0]] - (spacing_parameter/2) -3 and k <base_note_f[note[0]]-1:\n",
        "      text = 'F'\n",
        "      return(text)\n",
        "    elif k >= base_note_f[note[0]]-(spacing_parameter*2)-1 and k <= base_note_f[note[0]]-(spacing_parameter/2)-3:\n",
        "      text = 'G'\n",
        "      return(text)\n",
        "  \n",
        "  for note in enumerate(base_note_d):\n",
        "    if k >= base_note_d[note[0]] - (spacing_parameter/2) -3 and k <base_note_d[note[0]]-1:\n",
        "      text = 'D'\n",
        "      return(text)\n",
        "    elif k >= base_note_d[note[0]]-(spacing_parameter*2)-1 and k <= base_note_d[note[0]]-(spacing_parameter/2)-3:\n",
        "      text = 'E'\n",
        "      return(text)\n",
        "  \n",
        "  for note in enumerate(base_note_b):\n",
        "    if k >= base_note_b[note[0]] - (spacing_parameter/2) -3 and k <base_note_b[note[0]]-1:\n",
        "      text = 'B'\n",
        "      return(text)\n",
        "    elif k >= base_note_b[note[0]]-(spacing_parameter*2)-1 and k <= base_note_b[note[0]]-(spacing_parameter/2)-3:\n",
        "      text = 'C'\n",
        "      return(text)\n",
        "\n",
        "  for note in enumerate(base_note_g):\n",
        "    if k >= base_note_g[note[0]] - (spacing_parameter/2) -3 and k <base_note_g[note[0]]-1:\n",
        "      text = 'G'\n",
        "      return(text)\n",
        "    elif k >= base_note_g[note[0]]-(spacing_parameter*2)-1 and k <= base_note_g[note[0]]-(spacing_parameter/2)-3:\n",
        "      text = 'A'\n",
        "      return(text)"
      ],
      "execution_count": 127,
      "outputs": []
    },
    {
      "cell_type": "code",
      "metadata": {
        "colab": {
          "base_uri": "https://localhost:8080/",
          "height": 205
        },
        "id": "IsMBgtMhOjHI",
        "outputId": "4413dbda-d7c5-4915-abb8-f45f64ea0069"
      },
      "source": [
        "colors = ['red','green','blue']\n",
        "convert_image = Image.open(image_path).convert('L')\n",
        "im1 = convert_image.convert('RGB')\n",
        "draw = ImageDraw.Draw(im1)\n",
        "colors = ['red','green','blue']\n",
        "coordinates = [(0,0)]\n",
        "for k in range(len(images)):\n",
        "  #path = template_cutoff[k][0]\n",
        "  temp_array_1 = template_cutoff[k][0]\n",
        "  #temp_array_1 = np.array(Image.open(path,mode=\"r\").convert('L'))\n",
        "  temp = np.array(images[k])\n",
        "  box_endpoints = []\n",
        "  for i in range(0,temp.shape[0]-40):\n",
        "    for j in range(20,temp.shape[1]-30):\n",
        "      if temp[i,j] == 255:\n",
        "          x = i\n",
        "          y = j\n",
        "          x2 = x + temp_array_1.shape[0]\n",
        "          y2 = y + temp_array_1.shape[1]\n",
        "          box_endpoints.append([y,x,y2,x2])\n",
        "          \n",
        "\n",
        "  boxes_out = non_max_suppression(boxes=np.array(box_endpoints), overlap_threshold=0.3)\n",
        "  for box in boxes_out:\n",
        "    if box[0] >65  and box[1]>10 :\n",
        "      draw.rectangle(((box[0]-6,box[1]-2),(box[2]+1,box[3]+1)), outline= colors[k] ,width=2) \n",
        "      text = return_notes(box[1])\n",
        "      if text == None:\n",
        "        text = ''\n",
        "      else:\n",
        "        text = text\n",
        "      \n",
        "      if k ==0:\n",
        "        draw.text((box[0]-12,box[1]-12), text, fill='red',font = font)\n",
        "      elif k ==1:\n",
        "        draw.text((box[0]-10,box[1]-14), 'quarter', fill='green',font = font)\n",
        "      elif k ==2:\n",
        "        draw.text((box[0]-10,box[1]-12), 'eighth', fill='green',font = font)\n",
        "im1"
      ],
      "execution_count": 128,
      "outputs": [
        {
          "output_type": "execute_result",
          "data": {
            "image/png": "[encoded data removed]",
            "text/plain": [
              "<PIL.Image.Image image mode=RGB size=1274x231 at 0x7FAC8C37C2D0>"
            ]
          },
          "metadata": {
            "tags": []
          },
          "execution_count": 128
        }
      ]
    }
  ]
}