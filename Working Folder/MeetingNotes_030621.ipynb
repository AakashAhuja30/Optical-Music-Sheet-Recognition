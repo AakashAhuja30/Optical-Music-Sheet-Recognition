{
 "cells": [
  {
   "cell_type": "markdown",
   "metadata": {},
   "source": [
    "## Computer Vision Assignment 1\n"
   ]
  },
  {
   "cell_type": "markdown",
   "metadata": {},
   "source": [
    "### Environment\n",
    "\n",
    "1) Checking GitHub repository for all team members - Done\n",
    "\n",
    "2) Work will be done locally and shared on GitHub\n",
    "\n",
    "3) Final testing to be done on Linux box\n",
    "\n",
    "4) Ketan will create GroupMe for Assignments to include Aakash"
   ]
  },
  {
   "cell_type": "markdown",
   "metadata": {},
   "source": [
    "### Programming Tasks\n",
    "1) Implement convolution using kernel H, handle boundary - Ketan\n",
    "\n",
    "2) Implement convolution using separable H, handle boundary - Rose\n",
    "\n",
    "3) Hamming similarity function to match the images with the template - Aakash\n",
    "\n",
    "(OR)\n",
    "\n",
    "4) Alternative scoring function using Sobel operator(edge detection) - Nick\n",
    "\n",
    "5) Hough transform function to detect staffs and size of the note heads (scaling) - Sahil\n",
    "\n",
    "6) Implement OMR --- Team\n",
    "    a) Load images and perform convolution a/b\n",
    "    b) Detect Staves (Hough)\n",
    "    c) Rescale the images to the template size\n",
    "    d) Detect the notes using convolution, step c(Hamming) or d(edge detector)\n",
    "\n",
    "7) Output report file\n",
    "\n",
    "8) Test using other musical images\n",
    "\n",
    "9) Test the code on Linux m/c\n",
    "\n"
   ]
  },
  {
   "cell_type": "markdown",
   "metadata": {},
   "source": [
    "### Questions:\n",
    "1) Convolution when is it performed (ask during office hrs sun, mon, fri)"
   ]
  },
  {
   "cell_type": "markdown",
   "metadata": {},
   "source": [
    "### Next Steps:\n",
    "\n",
    "1) Ketan to work on Prog task 1 \n",
    "    \n",
    "2) Rose on task 2\n",
    "    \n",
    "3) Rest of the task to be assigned\n",
    "\n",
    "4) Rose will be joining office hours. Send any questions to her, if you're unable to join."
   ]
  },
  {
   "cell_type": "code",
   "execution_count": null,
   "metadata": {},
   "outputs": [],
   "source": []
  }
 ],
 "metadata": {
  "kernelspec": {
   "display_name": "Python 3",
   "language": "python",
   "name": "python3"
  },
  "language_info": {
   "codemirror_mode": {
    "name": "ipython",
    "version": 3
   },
   "file_extension": ".py",
   "mimetype": "text/x-python",
   "name": "python",
   "nbconvert_exporter": "python",
   "pygments_lexer": "ipython3",
   "version": "3.6.5"
  }
 },
 "nbformat": 4,
 "nbformat_minor": 2
}
